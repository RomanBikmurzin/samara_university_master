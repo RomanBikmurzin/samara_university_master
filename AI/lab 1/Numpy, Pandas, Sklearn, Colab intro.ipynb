{
 "cells": [
  {
   "cell_type": "markdown",
   "metadata": {
    "id": "VTCD25CZUOYu"
   },
   "source": [
    "## Введение в библиотеки: numpy, matplotlib, pandas.\n",
    "---\n",
    "## Introduction into packages: numpy, matplotlib, pandas. \n",
    "---\n",
    "Documentation references: \n",
    "*   [numpy](https://numpy.org/doc/stable/)\n",
    "*   [matplotlib](https://matplotlib.org/stable/tutorials/index.html)\n",
    "*   [pandas](https://pandas.pydata.org/docs/user_guide/index.html) \n"
   ]
  },
  {
   "cell_type": "markdown",
   "metadata": {
    "id": "N23qIdhUVpfn"
   },
   "source": [
    "### Numpy \n",
    "\n",
    "* Установка с помощью командной строки: `pip install numpy`\n",
    "* Установка в jupyter notebook: `!pip install numpy`\n",
    "(Префикс `!` указывает, что текущую клетку нужно выполнить в командной строке)\n",
    "\n",
    "В google colaboratory numpy предустановлен\n",
    "\n",
    "---\n",
    "* Install via command line: `pip install numpy`\n",
    "* Install via jupyter notebook: `!pip install numpy`\n",
    "(Prefix `!` indicates that the command should be executed inside terminal))\n",
    "\n",
    "Google colaboratory has preinstalled numpy.\n",
    "\n",
    "Full guide:\n",
    "https://numpy.org/doc/stable/user/absolute_beginners.html\n"
   ]
  },
  {
   "cell_type": "code",
   "execution_count": 4,
   "metadata": {
    "colab": {
     "base_uri": "https://localhost:8080/",
     "height": 35
    },
    "executionInfo": {
     "elapsed": 276,
     "status": "ok",
     "timestamp": 1632081955968,
     "user": {
      "displayName": "Rustam Paringer",
      "photoUrl": "https://lh3.googleusercontent.com/a/default-user=s64",
      "userId": "01578219706214200456"
     },
     "user_tz": -240
    },
    "id": "yx_RMg4iTjiq",
    "outputId": "c4d5ff42-e5bd-4f80-d14b-6f75a69c0e9d"
   },
   "outputs": [
    {
     "data": {
      "text/plain": [
       "'1.18.5'"
      ]
     },
     "execution_count": 4,
     "metadata": {},
     "output_type": "execute_result"
    }
   ],
   "source": [
    "import numpy as np\n",
    "np.__version__"
   ]
  },
  {
   "cell_type": "markdown",
   "metadata": {
    "id": "38mdfZPOYJ-_"
   },
   "source": [
    "#### Инициализация векторов\n",
    "----\n",
    "#### Vector intialization\n",
    "\n",
    "https://numpy.org/doc/stable/user/basics.creation.html"
   ]
  },
  {
   "cell_type": "code",
   "execution_count": 5,
   "metadata": {
    "colab": {
     "base_uri": "https://localhost:8080/"
    },
    "executionInfo": {
     "elapsed": 25,
     "status": "ok",
     "timestamp": 1631626333477,
     "user": {
      "displayName": "Rustam Paringer",
      "photoUrl": "https://lh3.googleusercontent.com/a/default-user=s64",
      "userId": "01578219706214200456"
     },
     "user_tz": -240
    },
    "id": "3m66zO70Vak-",
    "outputId": "449a6dc7-3bfa-456f-bb3a-1860415bf50a"
   },
   "outputs": [
    {
     "data": {
      "text/plain": [
       "array([2, 7, 5])"
      ]
     },
     "execution_count": 5,
     "metadata": {},
     "output_type": "execute_result"
    }
   ],
   "source": [
    "x = np.array([2,7,5])\n",
    "x"
   ]
  },
  {
   "cell_type": "code",
   "execution_count": 6,
   "metadata": {
    "colab": {
     "base_uri": "https://localhost:8080/"
    },
    "executionInfo": {
     "elapsed": 20,
     "status": "ok",
     "timestamp": 1631626333478,
     "user": {
      "displayName": "Rustam Paringer",
      "photoUrl": "https://lh3.googleusercontent.com/a/default-user=s64",
      "userId": "01578219706214200456"
     },
     "user_tz": -240
    },
    "id": "Odevz6zZYQaJ",
    "outputId": "07585117-907b-4394-fede-18f0653aa802"
   },
   "outputs": [
    {
     "data": {
      "text/plain": [
       "array([0, 1, 2, 3])"
      ]
     },
     "execution_count": 6,
     "metadata": {},
     "output_type": "execute_result"
    }
   ],
   "source": [
    "y = np.arange(4)\n",
    "y"
   ]
  },
  {
   "cell_type": "code",
   "execution_count": 7,
   "metadata": {
    "colab": {
     "base_uri": "https://localhost:8080/"
    },
    "executionInfo": {
     "elapsed": 19,
     "status": "ok",
     "timestamp": 1631626333479,
     "user": {
      "displayName": "Rustam Paringer",
      "photoUrl": "https://lh3.googleusercontent.com/a/default-user=s64",
      "userId": "01578219706214200456"
     },
     "user_tz": -240
    },
    "id": "U-NJBsEkYSm3",
    "outputId": "3a91b874-3dec-4db2-a142-d30aa60e78a1"
   },
   "outputs": [
    {
     "data": {
      "text/plain": [
       "array([ 4,  5,  6,  7,  8,  9, 10, 11, 12])"
      ]
     },
     "execution_count": 7,
     "metadata": {},
     "output_type": "execute_result"
    }
   ],
   "source": [
    "# (start, stop)\n",
    "y = np.arange(4, 13)\n",
    "y"
   ]
  },
  {
   "cell_type": "code",
   "execution_count": 8,
   "metadata": {
    "colab": {
     "base_uri": "https://localhost:8080/"
    },
    "executionInfo": {
     "elapsed": 18,
     "status": "ok",
     "timestamp": 1631626333479,
     "user": {
      "displayName": "Rustam Paringer",
      "photoUrl": "https://lh3.googleusercontent.com/a/default-user=s64",
      "userId": "01578219706214200456"
     },
     "user_tz": -240
    },
    "id": "_jDq_HRpYTe1",
    "outputId": "0d4b1039-b6c4-4e4a-ab03-70f471bb687e"
   },
   "outputs": [
    {
     "data": {
      "text/plain": [
       "array([ 4,  7, 10])"
      ]
     },
     "execution_count": 8,
     "metadata": {},
     "output_type": "execute_result"
    }
   ],
   "source": [
    "# (start, stop, step)\n",
    "y = np.arange(4, 13, 3)\n",
    "y"
   ]
  },
  {
   "cell_type": "code",
   "execution_count": 9,
   "metadata": {
    "colab": {
     "base_uri": "https://localhost:8080/"
    },
    "executionInfo": {
     "elapsed": 17,
     "status": "ok",
     "timestamp": 1631626333480,
     "user": {
      "displayName": "Rustam Paringer",
      "photoUrl": "https://lh3.googleusercontent.com/a/default-user=s64",
      "userId": "01578219706214200456"
     },
     "user_tz": -240
    },
    "id": "az7R8lKzYVrl",
    "outputId": "e631325f-33fd-409e-c6f8-fb0fbee6dc48"
   },
   "outputs": [
    {
     "data": {
      "text/plain": [
       "array([1., 1., 1., 1., 1., 1., 1., 1., 1., 1.])"
      ]
     },
     "execution_count": 9,
     "metadata": {},
     "output_type": "execute_result"
    }
   ],
   "source": [
    "y = np.ones((10, ))\n",
    "y"
   ]
  },
  {
   "cell_type": "code",
   "execution_count": 10,
   "metadata": {
    "colab": {
     "base_uri": "https://localhost:8080/"
    },
    "executionInfo": {
     "elapsed": 17,
     "status": "ok",
     "timestamp": 1631626333481,
     "user": {
      "displayName": "Rustam Paringer",
      "photoUrl": "https://lh3.googleusercontent.com/a/default-user=s64",
      "userId": "01578219706214200456"
     },
     "user_tz": -240
    },
    "id": "dcQwp0yBYYVz",
    "outputId": "21f3c60c-9619-48c9-9135-4a64b9b5e636"
   },
   "outputs": [
    {
     "data": {
      "text/plain": [
       "array([0., 0., 0., 0., 0., 0., 0., 0., 0., 0.])"
      ]
     },
     "execution_count": 10,
     "metadata": {},
     "output_type": "execute_result"
    }
   ],
   "source": [
    "y = np.zeros((10, ))\n",
    "y"
   ]
  },
  {
   "cell_type": "code",
   "execution_count": 11,
   "metadata": {
    "colab": {
     "base_uri": "https://localhost:8080/"
    },
    "executionInfo": {
     "elapsed": 16,
     "status": "ok",
     "timestamp": 1631626333481,
     "user": {
      "displayName": "Rustam Paringer",
      "photoUrl": "https://lh3.googleusercontent.com/a/default-user=s64",
      "userId": "01578219706214200456"
     },
     "user_tz": -240
    },
    "id": "m6DaLF54Ywb4",
    "outputId": "1565fa4d-399d-4177-966f-59545a003ff8"
   },
   "outputs": [
    {
     "data": {
      "text/plain": [
       "array([13, 10,  7])"
      ]
     },
     "execution_count": 11,
     "metadata": {},
     "output_type": "execute_result"
    }
   ],
   "source": [
    "y = np.arange(13, 4, -3)\n",
    "y"
   ]
  },
  {
   "cell_type": "markdown",
   "metadata": {
    "id": "n4yiagvKYdfH"
   },
   "source": [
    "#### Операции над векторами\n",
    "----\n",
    "#### Vector operations"
   ]
  },
  {
   "cell_type": "code",
   "execution_count": 12,
   "metadata": {
    "colab": {
     "base_uri": "https://localhost:8080/"
    },
    "executionInfo": {
     "elapsed": 15,
     "status": "ok",
     "timestamp": 1631626333482,
     "user": {
      "displayName": "Rustam Paringer",
      "photoUrl": "https://lh3.googleusercontent.com/a/default-user=s64",
      "userId": "01578219706214200456"
     },
     "user_tz": -240
    },
    "id": "kjTlxgyBYadP",
    "outputId": "d2a67816-2377-42a7-c146-a38e43fb97e6"
   },
   "outputs": [
    {
     "data": {
      "text/plain": [
       "array([26, 70, 35])"
      ]
     },
     "execution_count": 12,
     "metadata": {},
     "output_type": "execute_result"
    }
   ],
   "source": [
    "x * y"
   ]
  },
  {
   "cell_type": "code",
   "execution_count": 13,
   "metadata": {
    "colab": {
     "base_uri": "https://localhost:8080/"
    },
    "executionInfo": {
     "elapsed": 21,
     "status": "ok",
     "timestamp": 1631626333776,
     "user": {
      "displayName": "Rustam Paringer",
      "photoUrl": "https://lh3.googleusercontent.com/a/default-user=s64",
      "userId": "01578219706214200456"
     },
     "user_tz": -240
    },
    "id": "yhnAJkcjYuVY",
    "outputId": "30e4b0b5-6f1a-48fa-9b9a-8d5ff6ec240e"
   },
   "outputs": [
    {
     "data": {
      "text/plain": [
       "array([15, 17, 12])"
      ]
     },
     "execution_count": 13,
     "metadata": {},
     "output_type": "execute_result"
    }
   ],
   "source": [
    "x + y"
   ]
  },
  {
   "cell_type": "code",
   "execution_count": 14,
   "metadata": {
    "colab": {
     "base_uri": "https://localhost:8080/"
    },
    "executionInfo": {
     "elapsed": 17,
     "status": "ok",
     "timestamp": 1631626333777,
     "user": {
      "displayName": "Rustam Paringer",
      "photoUrl": "https://lh3.googleusercontent.com/a/default-user=s64",
      "userId": "01578219706214200456"
     },
     "user_tz": -240
    },
    "id": "JYGudEuZY56V",
    "outputId": "4a2a71f3-d020-49e5-b38b-8e30bd34fd1f"
   },
   "outputs": [
    {
     "data": {
      "text/plain": [
       "array([0.15384615, 0.7       , 0.71428571])"
      ]
     },
     "execution_count": 14,
     "metadata": {},
     "output_type": "execute_result"
    }
   ],
   "source": [
    "x / y"
   ]
  },
  {
   "cell_type": "code",
   "execution_count": 15,
   "metadata": {
    "colab": {
     "base_uri": "https://localhost:8080/"
    },
    "executionInfo": {
     "elapsed": 16,
     "status": "ok",
     "timestamp": 1631626333777,
     "user": {
      "displayName": "Rustam Paringer",
      "photoUrl": "https://lh3.googleusercontent.com/a/default-user=s64",
      "userId": "01578219706214200456"
     },
     "user_tz": -240
    },
    "id": "vsy69cNXY8YN",
    "outputId": "f6b73d56-5e69-416f-c44c-cceeff27b088"
   },
   "outputs": [
    {
     "data": {
      "text/plain": [
       "array([     8192, 282475249,     78125], dtype=int32)"
      ]
     },
     "execution_count": 15,
     "metadata": {},
     "output_type": "execute_result"
    }
   ],
   "source": [
    "x ** y"
   ]
  },
  {
   "cell_type": "markdown",
   "metadata": {
    "id": "ATpZadLIZHdS"
   },
   "source": [
    "Скалярное произведение\n",
    "\n",
    "----\n",
    "Dot product"
   ]
  },
  {
   "cell_type": "code",
   "execution_count": 16,
   "metadata": {
    "colab": {
     "base_uri": "https://localhost:8080/"
    },
    "executionInfo": {
     "elapsed": 15,
     "status": "ok",
     "timestamp": 1631626333778,
     "user": {
      "displayName": "Rustam Paringer",
      "photoUrl": "https://lh3.googleusercontent.com/a/default-user=s64",
      "userId": "01578219706214200456"
     },
     "user_tz": -240
    },
    "id": "5LRPax-MY8u0",
    "outputId": "c05a4f7c-c4b8-4c85-9b9f-16bf793f9a52"
   },
   "outputs": [
    {
     "data": {
      "text/plain": [
       "(131, 131, 131)"
      ]
     },
     "execution_count": 16,
     "metadata": {},
     "output_type": "execute_result"
    }
   ],
   "source": [
    "x @ y, x.dot(y), np.dot(x, y) "
   ]
  },
  {
   "cell_type": "markdown",
   "metadata": {
    "id": "6s11_Bu6ZT9K"
   },
   "source": [
    "#### Обращение к элементам вектора\n",
    "\n",
    "----\n",
    "#### Vector's indexing\n",
    "\n",
    "https://numpy.org/doc/stable/user/basics.indexing.html"
   ]
  },
  {
   "cell_type": "code",
   "execution_count": 17,
   "metadata": {
    "colab": {
     "base_uri": "https://localhost:8080/"
    },
    "executionInfo": {
     "elapsed": 14,
     "status": "ok",
     "timestamp": 1631626333778,
     "user": {
      "displayName": "Rustam Paringer",
      "photoUrl": "https://lh3.googleusercontent.com/a/default-user=s64",
      "userId": "01578219706214200456"
     },
     "user_tz": -240
    },
    "id": "SwKsjF80Z3QA",
    "outputId": "2408d199-77a0-4cf3-eb4b-b0b13e59fd65"
   },
   "outputs": [
    {
     "data": {
      "text/plain": [
       "array([2, 7, 5])"
      ]
     },
     "execution_count": 17,
     "metadata": {},
     "output_type": "execute_result"
    }
   ],
   "source": [
    "x"
   ]
  },
  {
   "cell_type": "code",
   "execution_count": 18,
   "metadata": {
    "colab": {
     "base_uri": "https://localhost:8080/"
    },
    "executionInfo": {
     "elapsed": 12,
     "status": "ok",
     "timestamp": 1631626333778,
     "user": {
      "displayName": "Rustam Paringer",
      "photoUrl": "https://lh3.googleusercontent.com/a/default-user=s64",
      "userId": "01578219706214200456"
     },
     "user_tz": -240
    },
    "id": "-9wtp_OWY_d-",
    "outputId": "6a5476c9-8062-4672-b880-2311189c282e"
   },
   "outputs": [
    {
     "data": {
      "text/plain": [
       "7"
      ]
     },
     "execution_count": 18,
     "metadata": {},
     "output_type": "execute_result"
    }
   ],
   "source": [
    "x[1]"
   ]
  },
  {
   "cell_type": "code",
   "execution_count": 19,
   "metadata": {
    "colab": {
     "base_uri": "https://localhost:8080/"
    },
    "executionInfo": {
     "elapsed": 12,
     "status": "ok",
     "timestamp": 1631626333779,
     "user": {
      "displayName": "Rustam Paringer",
      "photoUrl": "https://lh3.googleusercontent.com/a/default-user=s64",
      "userId": "01578219706214200456"
     },
     "user_tz": -240
    },
    "id": "NpvZqTNpZh0y",
    "outputId": "a96eb1a6-cd28-4d60-bd68-50c0f1a6d83f"
   },
   "outputs": [
    {
     "data": {
      "text/plain": [
       "array([7, 5])"
      ]
     },
     "execution_count": 19,
     "metadata": {},
     "output_type": "execute_result"
    }
   ],
   "source": [
    "# (start, stop)\n",
    "x[1:3]"
   ]
  },
  {
   "cell_type": "code",
   "execution_count": 20,
   "metadata": {
    "colab": {
     "base_uri": "https://localhost:8080/"
    },
    "executionInfo": {
     "elapsed": 12,
     "status": "ok",
     "timestamp": 1631626333779,
     "user": {
      "displayName": "Rustam Paringer",
      "photoUrl": "https://lh3.googleusercontent.com/a/default-user=s64",
      "userId": "01578219706214200456"
     },
     "user_tz": -240
    },
    "id": "Ap5IyXrLZzyO",
    "outputId": "13d0c120-60d3-4179-8527-ea444b27e1be"
   },
   "outputs": [
    {
     "data": {
      "text/plain": [
       "7"
      ]
     },
     "execution_count": 20,
     "metadata": {},
     "output_type": "execute_result"
    }
   ],
   "source": [
    "x[-2]"
   ]
  },
  {
   "cell_type": "code",
   "execution_count": 21,
   "metadata": {
    "colab": {
     "base_uri": "https://localhost:8080/"
    },
    "executionInfo": {
     "elapsed": 11,
     "status": "ok",
     "timestamp": 1631626333780,
     "user": {
      "displayName": "Rustam Paringer",
      "photoUrl": "https://lh3.googleusercontent.com/a/default-user=s64",
      "userId": "01578219706214200456"
     },
     "user_tz": -240
    },
    "id": "u_P9rvi7Z2Y5",
    "outputId": "20e71235-5bc9-4b34-a321-45161ec1396d"
   },
   "outputs": [
    {
     "data": {
      "text/plain": [
       "array([2, 5])"
      ]
     },
     "execution_count": 21,
     "metadata": {},
     "output_type": "execute_result"
    }
   ],
   "source": [
    "mask = [0, 2]\n",
    "x[mask]"
   ]
  },
  {
   "cell_type": "markdown",
   "metadata": {
    "id": "cGA8uZ8EaC_d"
   },
   "source": [
    "#### Матрицы\n",
    "\n",
    "---- \n",
    "\n",
    "#### Matrices"
   ]
  },
  {
   "cell_type": "code",
   "execution_count": 22,
   "metadata": {
    "colab": {
     "base_uri": "https://localhost:8080/"
    },
    "executionInfo": {
     "elapsed": 10,
     "status": "ok",
     "timestamp": 1631626333780,
     "user": {
      "displayName": "Rustam Paringer",
      "photoUrl": "https://lh3.googleusercontent.com/a/default-user=s64",
      "userId": "01578219706214200456"
     },
     "user_tz": -240
    },
    "id": "j-Uj9MQNZ9pn",
    "outputId": "fa37bf8c-ab36-404b-9dd6-d4670bc47b6b"
   },
   "outputs": [
    {
     "name": "stdout",
     "output_type": "stream",
     "text": [
      "Shape (3, 3)\n"
     ]
    },
    {
     "data": {
      "text/plain": [
       "array([[1, 2, 3],\n",
       "       [4, 5, 6],\n",
       "       [7, 8, 9]])"
      ]
     },
     "execution_count": 22,
     "metadata": {},
     "output_type": "execute_result"
    }
   ],
   "source": [
    "z = np.array([\n",
    "    [1, 2, 3],\n",
    "    [4, 5, 6],\n",
    "    [7, 8, 9]\n",
    "])\n",
    "print(\"Shape\", z.shape)\n",
    "z"
   ]
  },
  {
   "cell_type": "code",
   "execution_count": 23,
   "metadata": {
    "colab": {
     "base_uri": "https://localhost:8080/"
    },
    "executionInfo": {
     "elapsed": 22,
     "status": "ok",
     "timestamp": 1631626334055,
     "user": {
      "displayName": "Rustam Paringer",
      "photoUrl": "https://lh3.googleusercontent.com/a/default-user=s64",
      "userId": "01578219706214200456"
     },
     "user_tz": -240
    },
    "id": "PUtPcLrZwdUP",
    "outputId": "4ba76740-2f52-43ef-f41d-e93819b9063b"
   },
   "outputs": [
    {
     "data": {
      "text/plain": [
       "array([[0., 0., 0.],\n",
       "       [0., 0., 0.],\n",
       "       [0., 0., 0.]])"
      ]
     },
     "execution_count": 23,
     "metadata": {},
     "output_type": "execute_result"
    }
   ],
   "source": [
    "np.zeros((3, 3))"
   ]
  },
  {
   "cell_type": "code",
   "execution_count": 24,
   "metadata": {
    "colab": {
     "base_uri": "https://localhost:8080/"
    },
    "executionInfo": {
     "elapsed": 17,
     "status": "ok",
     "timestamp": 1631626334056,
     "user": {
      "displayName": "Rustam Paringer",
      "photoUrl": "https://lh3.googleusercontent.com/a/default-user=s64",
      "userId": "01578219706214200456"
     },
     "user_tz": -240
    },
    "id": "fo9_64LBwgf7",
    "outputId": "aa5aa5fc-4eea-4ec9-e940-8580eb5c6f00"
   },
   "outputs": [
    {
     "data": {
      "text/plain": [
       "array([[1., 1., 1.],\n",
       "       [1., 1., 1.],\n",
       "       [1., 1., 1.]])"
      ]
     },
     "execution_count": 24,
     "metadata": {},
     "output_type": "execute_result"
    }
   ],
   "source": [
    "np.ones((3, 3))"
   ]
  },
  {
   "cell_type": "code",
   "execution_count": 25,
   "metadata": {
    "colab": {
     "base_uri": "https://localhost:8080/"
    },
    "executionInfo": {
     "elapsed": 16,
     "status": "ok",
     "timestamp": 1631626334056,
     "user": {
      "displayName": "Rustam Paringer",
      "photoUrl": "https://lh3.googleusercontent.com/a/default-user=s64",
      "userId": "01578219706214200456"
     },
     "user_tz": -240
    },
    "id": "W-_hwMvNwjCB",
    "outputId": "e5a5c1d5-30fe-4030-f6b9-1ee2a7f13130"
   },
   "outputs": [
    {
     "data": {
      "text/plain": [
       "array([[1., 0., 0.],\n",
       "       [0., 1., 0.],\n",
       "       [0., 0., 1.]])"
      ]
     },
     "execution_count": 25,
     "metadata": {},
     "output_type": "execute_result"
    }
   ],
   "source": [
    "np.eye(3, 3)"
   ]
  },
  {
   "cell_type": "code",
   "execution_count": 26,
   "metadata": {
    "colab": {
     "base_uri": "https://localhost:8080/"
    },
    "executionInfo": {
     "elapsed": 16,
     "status": "ok",
     "timestamp": 1631626334057,
     "user": {
      "displayName": "Rustam Paringer",
      "photoUrl": "https://lh3.googleusercontent.com/a/default-user=s64",
      "userId": "01578219706214200456"
     },
     "user_tz": -240
    },
    "id": "g0eXiBzUaIRq",
    "outputId": "2c0afd1e-a0d6-4c8b-de75-adde94403770"
   },
   "outputs": [
    {
     "data": {
      "text/plain": [
       "array([1, 2, 3, 4, 5, 6, 7, 8, 9])"
      ]
     },
     "execution_count": 26,
     "metadata": {},
     "output_type": "execute_result"
    }
   ],
   "source": [
    "z = np.arange(1, 10, 1)\n",
    "z"
   ]
  },
  {
   "cell_type": "code",
   "execution_count": 27,
   "metadata": {
    "colab": {
     "base_uri": "https://localhost:8080/"
    },
    "executionInfo": {
     "elapsed": 16,
     "status": "ok",
     "timestamp": 1631626334058,
     "user": {
      "displayName": "Rustam Paringer",
      "photoUrl": "https://lh3.googleusercontent.com/a/default-user=s64",
      "userId": "01578219706214200456"
     },
     "user_tz": -240
    },
    "id": "3YJUrk-saUYV",
    "outputId": "74559728-d069-4607-a95d-a021674477b0"
   },
   "outputs": [
    {
     "data": {
      "text/plain": [
       "array([[1, 2, 3],\n",
       "       [4, 5, 6],\n",
       "       [7, 8, 9]])"
      ]
     },
     "execution_count": 27,
     "metadata": {},
     "output_type": "execute_result"
    }
   ],
   "source": [
    "z = z.reshape((3, 3))\n",
    "z"
   ]
  },
  {
   "cell_type": "code",
   "execution_count": 28,
   "metadata": {
    "colab": {
     "base_uri": "https://localhost:8080/"
    },
    "executionInfo": {
     "elapsed": 17,
     "status": "ok",
     "timestamp": 1631626334059,
     "user": {
      "displayName": "Rustam Paringer",
      "photoUrl": "https://lh3.googleusercontent.com/a/default-user=s64",
      "userId": "01578219706214200456"
     },
     "user_tz": -240
    },
    "id": "BxkTpY66agr_",
    "outputId": "a286daf8-b598-4813-e61f-d340744bcc37"
   },
   "outputs": [
    {
     "data": {
      "text/plain": [
       "array([[8, 9]])"
      ]
     },
     "execution_count": 28,
     "metadata": {},
     "output_type": "execute_result"
    }
   ],
   "source": [
    "z[2:4, 1:3]"
   ]
  },
  {
   "cell_type": "code",
   "execution_count": 29,
   "metadata": {
    "colab": {
     "base_uri": "https://localhost:8080/"
    },
    "executionInfo": {
     "elapsed": 16,
     "status": "ok",
     "timestamp": 1631626334059,
     "user": {
      "displayName": "Rustam Paringer",
      "photoUrl": "https://lh3.googleusercontent.com/a/default-user=s64",
      "userId": "01578219706214200456"
     },
     "user_tz": -240
    },
    "id": "vJ5BhpVyaslm",
    "outputId": "a090ae60-6e98-4d33-9052-9fec49965351"
   },
   "outputs": [
    {
     "data": {
      "text/plain": [
       "array([[2, 3],\n",
       "       [5, 6],\n",
       "       [8, 9]])"
      ]
     },
     "execution_count": 29,
     "metadata": {},
     "output_type": "execute_result"
    }
   ],
   "source": [
    "z[:, 1:3]"
   ]
  },
  {
   "cell_type": "code",
   "execution_count": 30,
   "metadata": {
    "colab": {
     "base_uri": "https://localhost:8080/"
    },
    "executionInfo": {
     "elapsed": 16,
     "status": "ok",
     "timestamp": 1631626334060,
     "user": {
      "displayName": "Rustam Paringer",
      "photoUrl": "https://lh3.googleusercontent.com/a/default-user=s64",
      "userId": "01578219706214200456"
     },
     "user_tz": -240
    },
    "id": "igweSkQ0a0H_",
    "outputId": "791b191b-b135-45bd-bba8-3c59adaa8141"
   },
   "outputs": [
    {
     "data": {
      "text/plain": [
       "array([[2, 3],\n",
       "       [5, 6],\n",
       "       [8, 9]])"
      ]
     },
     "execution_count": 30,
     "metadata": {},
     "output_type": "execute_result"
    }
   ],
   "source": [
    "z[..., 1:3]"
   ]
  },
  {
   "cell_type": "markdown",
   "metadata": {
    "id": "JmfyKJpIa6tc"
   },
   "source": [
    "#### Генерация данных с заданным распределением\n",
    "----\n",
    "#### Random data generation with desired distribution\n",
    "\n",
    "https://numpy.org/doc/stable/reference/random/index.html"
   ]
  },
  {
   "cell_type": "markdown",
   "metadata": {
    "id": "Sm4WeDTtbKMb"
   },
   "source": [
    "Равномерное распределение\n",
    "\n",
    "----\n",
    "\n",
    "Uniform distribution"
   ]
  },
  {
   "cell_type": "code",
   "execution_count": 87,
   "metadata": {
    "colab": {
     "base_uri": "https://localhost:8080/"
    },
    "executionInfo": {
     "elapsed": 15,
     "status": "ok",
     "timestamp": 1631626334060,
     "user": {
      "displayName": "Rustam Paringer",
      "photoUrl": "https://lh3.googleusercontent.com/a/default-user=s64",
      "userId": "01578219706214200456"
     },
     "user_tz": -240
    },
    "id": "cvflf_2ua2Go",
    "outputId": "bfb9a159-bf10-4c44-887f-27391526ab27"
   },
   "outputs": [
    {
     "data": {
      "text/plain": [
       "array([0.17695407, 0.76412208, 0.05319754, 0.58176861, 0.27973226,\n",
       "       0.43273581, 0.56818059, 0.80417674, 0.47903309, 0.79027219,\n",
       "       0.50871866, 0.4630918 , 0.19616737, 0.89542115, 0.32705016,\n",
       "       0.43859806, 0.64076277, 0.36202537, 0.05646542, 0.93154202,\n",
       "       0.25429926, 0.32185759, 0.24094982, 0.14963998, 0.13033254,\n",
       "       0.4963475 , 0.34064217, 0.73058821, 0.55859379, 0.76581677,\n",
       "       0.82867159, 0.05116884, 0.05800475, 0.66675913, 0.46099689,\n",
       "       0.43717508, 0.95973701, 0.25820131, 0.8179249 , 0.03280759,\n",
       "       0.02905865, 0.99798658, 0.22739284, 0.19472048, 0.10335309,\n",
       "       0.43106416, 0.84215101, 0.64265494, 0.8835211 , 0.73753245])"
      ]
     },
     "execution_count": 87,
     "metadata": {},
     "output_type": "execute_result"
    }
   ],
   "source": [
    "x = np.random.uniform(0.0, 1.0, 50) # (left border, right border, number of samples)\n",
    "x"
   ]
  },
  {
   "cell_type": "markdown",
   "metadata": {
    "id": "CsNO_y_ebM1M"
   },
   "source": [
    "Нормальное распределение\n",
    "\n",
    "----\n",
    "\n",
    "Gaussian distribution"
   ]
  },
  {
   "cell_type": "code",
   "execution_count": 88,
   "metadata": {
    "colab": {
     "base_uri": "https://localhost:8080/"
    },
    "executionInfo": {
     "elapsed": 15,
     "status": "ok",
     "timestamp": 1631626334061,
     "user": {
      "displayName": "Rustam Paringer",
      "photoUrl": "https://lh3.googleusercontent.com/a/default-user=s64",
      "userId": "01578219706214200456"
     },
     "user_tz": -240
    },
    "id": "Zr2GvkOdbIqj",
    "outputId": "8625150f-79bb-4fe6-e235-4b4e5dbe8c3a"
   },
   "outputs": [
    {
     "data": {
      "text/plain": [
       "array([ 0.12598017,  1.05521655, -0.79776985,  0.73651304,  0.38096439,\n",
       "       -0.30274182,  0.99290433, -0.01882056,  1.5142039 ,  0.10920121,\n",
       "        0.00612967, -0.69610742,  1.59568889,  1.21466791, -0.71037072,\n",
       "        0.0410977 ,  0.76249446, -0.04938669,  0.91131133, -0.78766342,\n",
       "       -1.82690996,  1.55982718, -0.54519316,  1.09670698,  0.26931767,\n",
       "        0.09116648,  0.27463873, -0.29158443, -0.40384322, -2.39551896,\n",
       "       -0.64122573, -1.16004369,  0.00449995,  0.90189622, -0.90633815,\n",
       "        1.06878518, -0.67479095,  1.33402193,  0.44096618, -2.34952601,\n",
       "       -0.00491223, -0.92641688,  0.04945972,  0.09731203, -0.52724123,\n",
       "        2.28678047,  0.19995061, -1.76698873, -0.19269371,  1.65471681])"
      ]
     },
     "execution_count": 88,
     "metadata": {},
     "output_type": "execute_result"
    }
   ],
   "source": [
    "24\n",
    "y = np.random.normal(0.0, 1.0, 50) # (mean, std, number of samples)\n",
    "y"
   ]
  },
  {
   "cell_type": "markdown",
   "metadata": {
    "id": "3IoNo5qPqcCh"
   },
   "source": [
    "### Matplotlib \n",
    "\n",
    "* Установка с помощью командной строки: `pip install matplotlib`\n",
    "* Установка в jupyter notebook: `!pip install matplotlib`\n",
    "(Префикс `!` указывает, что текущую клетку нужно выполнить в командной строке)\n",
    "\n",
    "В google colaboratory matplotlib предустановлен\n",
    "\n",
    "---\n",
    "* Install via command line: `pip install matplotlib`\n",
    "* Install via jupyter notebook: `!pip install matplotlib`\n",
    "(Prefix `!` indicates that the command should be executed inside terminal))\n",
    "\n",
    "Google colaboratory has preinstalled matplotlib.\n",
    "\n",
    "Official tutorials:\n",
    "https://matplotlib.org/stable/tutorials/index.html\n"
   ]
  },
  {
   "cell_type": "code",
   "execution_count": 46,
   "metadata": {
    "colab": {
     "base_uri": "https://localhost:8080/",
     "height": 35
    },
    "executionInfo": {
     "elapsed": 272,
     "status": "ok",
     "timestamp": 1632081961356,
     "user": {
      "displayName": "Rustam Paringer",
      "photoUrl": "https://lh3.googleusercontent.com/a/default-user=s64",
      "userId": "01578219706214200456"
     },
     "user_tz": -240
    },
    "id": "naE7oJsMbZZn",
    "outputId": "d0927b57-9736-44fb-ae61-7bda3d08696f"
   },
   "outputs": [
    {
     "data": {
      "text/plain": [
       "'3.2.2'"
      ]
     },
     "execution_count": 46,
     "metadata": {},
     "output_type": "execute_result"
    }
   ],
   "source": [
    "import matplotlib.pyplot as plt\n",
    "import matplotlib\n",
    "matplotlib.__version__"
   ]
  },
  {
   "cell_type": "markdown",
   "metadata": {
    "id": "SDWSKe5TrFGf"
   },
   "source": [
    "#### Визуализация точек\n",
    "----\n",
    "#### Points visualization"
   ]
  },
  {
   "cell_type": "code",
   "execution_count": 89,
   "metadata": {
    "colab": {
     "base_uri": "https://localhost:8080/"
    },
    "executionInfo": {
     "elapsed": 285,
     "status": "ok",
     "timestamp": 1631626334333,
     "user": {
      "displayName": "Rustam Paringer",
      "photoUrl": "https://lh3.googleusercontent.com/a/default-user=s64",
      "userId": "01578219706214200456"
     },
     "user_tz": -240
    },
    "id": "JLo69hLzqyF9",
    "outputId": "66066991-9566-4483-d243-e4a229d5c562"
   },
   "outputs": [
    {
     "data": {
      "text/plain": [
       "<matplotlib.collections.PathCollection at 0x1c06ba836d0>"
      ]
     },
     "execution_count": 89,
     "metadata": {},
     "output_type": "execute_result"
    },
    {
     "data": {
      "image/png": "[encoded data removed]",
      "text/plain": [
       "<Figure size 432x288 with 1 Axes>"
      ]
     },
     "metadata": {
      "needs_background": "light"
     },
     "output_type": "display_data"
    }
   ],
   "source": [
    "plt.scatter(x, y)"
   ]
  },
  {
   "cell_type": "markdown",
   "metadata": {
    "id": "izsUZy-OrMx4"
   },
   "source": [
    "#### Базовая кастомизация графиков (именование осей, цвет точек)\n",
    "----\n",
    "#### Basic charts customization (axis labeling, points coloring)"
   ]
  },
  {
   "cell_type": "code",
   "execution_count": 90,
   "metadata": {
    "colab": {
     "base_uri": "https://localhost:8080/"
    },
    "executionInfo": {
     "elapsed": 8,
     "status": "ok",
     "timestamp": 1631626334806,
     "user": {
      "displayName": "Rustam Paringer",
      "photoUrl": "https://lh3.googleusercontent.com/a/default-user=s64",
      "userId": "01578219706214200456"
     },
     "user_tz": -240
    },
    "id": "fykVvTEAq8RR",
    "outputId": "8ba5c01b-1233-47fe-bd21-b9aafd8d40a0"
   },
   "outputs": [
    {
     "data": {
      "text/plain": [
       "<matplotlib.collections.PathCollection at 0x1c06bac23d0>"
      ]
     },
     "execution_count": 90,
     "metadata": {},
     "output_type": "execute_result"
    },
    {
     "data": {
      "image/png": "[encoded data removed]",
      "text/plain": [
       "<Figure size 432x288 with 1 Axes>"
      ]
     },
     "metadata": {
      "needs_background": "light"
     },
     "output_type": "display_data"
    }
   ],
   "source": [
    "plt.xlabel(\"Random Uniform\")\n",
    "plt.ylabel(\"Random Normal\")\n",
    "plt.title(\"Chart\")\n",
    "plt.scatter(x, y, marker='o', color='green')"
   ]
  },
  {
   "cell_type": "code",
   "execution_count": 91,
   "metadata": {
    "colab": {
     "base_uri": "https://localhost:8080/"
    },
    "executionInfo": {
     "elapsed": 305,
     "status": "ok",
     "timestamp": 1631626335106,
     "user": {
      "displayName": "Rustam Paringer",
      "photoUrl": "https://lh3.googleusercontent.com/a/default-user=s64",
      "userId": "01578219706214200456"
     },
     "user_tz": -240
    },
    "id": "msi8SAhwrvKa",
    "outputId": "fdb57b53-144b-4d28-9a26-d5444936bd2e"
   },
   "outputs": [
    {
     "data": {
      "text/plain": [
       "<matplotlib.collections.PathCollection at 0x1c06bb20f10>"
      ]
     },
     "execution_count": 91,
     "metadata": {},
     "output_type": "execute_result"
    },
    {
     "data": {
      "image/png": "[encoded data removed]",
      "text/plain": [
       "<Figure size 432x288 with 1 Axes>"
      ]
     },
     "metadata": {
      "needs_background": "light"
     },
     "output_type": "display_data"
    }
   ],
   "source": [
    "plt.xlabel(\"Равномерное распределение\")\n",
    "plt.ylabel(\"Нормальное распределение\")\n",
    "plt.title(\"График\")\n",
    "plt.grid()\n",
    "plt.scatter(x, y, marker='D', color='gray')  # Настройки отображения графика"
   ]
  },
  {
   "cell_type": "markdown",
   "metadata": {
    "id": "mnkFVY_er3Fg"
   },
   "source": [
    "#### График гистограммы + визуализация нескольких графиков на одном полотне\n",
    "----\n",
    "#### Histogram's chart + multiply chart visualization on the same canvas"
   ]
  },
  {
   "cell_type": "code",
   "execution_count": 50,
   "metadata": {
    "colab": {
     "base_uri": "https://localhost:8080/"
    },
    "executionInfo": {
     "elapsed": 678,
     "status": "ok",
     "timestamp": 1631626335776,
     "user": {
      "displayName": "Rustam Paringer",
      "photoUrl": "https://lh3.googleusercontent.com/a/default-user=s64",
      "userId": "01578219706214200456"
     },
     "user_tz": -240
    },
    "id": "jZROiXLWrveV",
    "outputId": "02d9023e-942e-42fe-b6c0-4cf6a834edbc"
   },
   "outputs": [
    {
     "data": {
      "text/plain": [
       "(array([ 2.,  2.,  9.,  8., 10.,  6.,  3.,  5.,  2.,  3.]),\n",
       " array([-1.68101036, -1.28368489, -0.88635943, -0.48903396, -0.09170849,\n",
       "         0.30561697,  0.70294244,  1.10026791,  1.49759337,  1.89491884,\n",
       "         2.2922443 ]),\n",
       " <a list of 10 Patch objects>)"
      ]
     },
     "execution_count": 50,
     "metadata": {},
     "output_type": "execute_result"
    },
    {
     "data": {
      "image/png": "[encoded data removed]",
      "text/plain": [
       "<Figure size 432x288 with 2 Axes>"
      ]
     },
     "metadata": {
      "needs_background": "light"
     },
     "output_type": "display_data"
    }
   ],
   "source": [
    "plt.subplot(121) \n",
    "plt.scatter(x, y)\n",
    "plt.subplot(122)\n",
    "plt.hist(y)"
   ]
  },
  {
   "cell_type": "code",
   "execution_count": 51,
   "metadata": {
    "colab": {
     "base_uri": "https://localhost:8080/"
    },
    "executionInfo": {
     "elapsed": 1010,
     "status": "ok",
     "timestamp": 1631626336778,
     "user": {
      "displayName": "Rustam Paringer",
      "photoUrl": "https://lh3.googleusercontent.com/a/default-user=s64",
      "userId": "01578219706214200456"
     },
     "user_tz": -240
    },
    "id": "0BLWTUq_sBx3",
    "outputId": "1f7de93b-fb59-4000-ca5d-11daf6788497"
   },
   "outputs": [
    {
     "data": {
      "text/plain": [
       "(array([ 2.,  2.,  9.,  8., 10.,  6.,  3.,  5.,  2.,  3.]),\n",
       " array([-1.68101036, -1.28368489, -0.88635943, -0.48903396, -0.09170849,\n",
       "         0.30561697,  0.70294244,  1.10026791,  1.49759337,  1.89491884,\n",
       "         2.2922443 ]),\n",
       " <a list of 10 Patch objects>)"
      ]
     },
     "execution_count": 51,
     "metadata": {},
     "output_type": "execute_result"
    },
    {
     "data": {
      "image/png": "[encoded data removed]",
      "text/plain": [
       "<Figure size 1440x960 with 2 Axes>"
      ]
     },
     "metadata": {
      "needs_background": "light"
     },
     "output_type": "display_data"
    }
   ],
   "source": [
    "fig, (ax1, ax2) = plt.subplots(nrows=1, ncols=2, figsize=(12, 8), dpi=120)\n",
    "ax1.scatter(x, y)\n",
    "ax2.hist(y)\n",
    "\n",
    "# fig.savefig(\"saving_plot_example.png\")"
   ]
  },
  {
   "cell_type": "markdown",
   "metadata": {
    "id": "-rZZ5bQvslxJ"
   },
   "source": [
    "#### Примеры генерации данных\n",
    "----\n",
    "#### Data generation examples "
   ]
  },
  {
   "cell_type": "markdown",
   "metadata": {
    "id": "rN9q5Kn3ss4j"
   },
   "source": [
    "##### Гауссовы облака\n",
    "----\n",
    "##### Gaussian clouds"
   ]
  },
  {
   "cell_type": "code",
   "execution_count": 52,
   "metadata": {
    "colab": {
     "base_uri": "https://localhost:8080/",
     "height": 282
    },
    "executionInfo": {
     "elapsed": 304,
     "status": "ok",
     "timestamp": 1632081963152,
     "user": {
      "displayName": "Rustam Paringer",
      "photoUrl": "https://lh3.googleusercontent.com/a/default-user=s64",
      "userId": "01578219706214200456"
     },
     "user_tz": -240
    },
    "id": "uLc2s6jksTsM",
    "outputId": "c4dd50f1-995c-481f-b835-c96e90495dcf"
   },
   "outputs": [
    {
     "data": {
      "text/plain": [
       "<matplotlib.collections.PathCollection at 0x1c0689e6370>"
      ]
     },
     "execution_count": 52,
     "metadata": {},
     "output_type": "execute_result"
    },
    {
     "data": {
      "image/png": "[encoded data removed]",
      "text/plain": [
       "<Figure size 432x288 with 1 Axes>"
      ]
     },
     "metadata": {
      "needs_background": "light"
     },
     "output_type": "display_data"
    }
   ],
   "source": [
    "noise = np.random.randn(60, 2) # 60 точек, 2 координаты; 60 points, 2 axis\n",
    "plt.scatter(noise[:, 0], noise[:, 1])"
   ]
  },
  {
   "cell_type": "markdown",
   "metadata": {
    "id": "c1MXmxmbtGQP"
   },
   "source": [
    "#### Сдвиг облаков\n",
    "----\n",
    "#### Shift clouds"
   ]
  },
  {
   "cell_type": "code",
   "execution_count": 95,
   "metadata": {
    "id": "OG3h1alLs5UW"
   },
   "outputs": [],
   "source": [
    "cloud1 = noise + np.array([2, 2])\n",
    "cloud2 = noise + np.array([-2, -2])"
   ]
  },
  {
   "cell_type": "code",
   "execution_count": 96,
   "metadata": {
    "colab": {
     "base_uri": "https://localhost:8080/",
     "height": 282
    },
    "executionInfo": {
     "elapsed": 347,
     "status": "ok",
     "timestamp": 1632081967148,
     "user": {
      "displayName": "Rustam Paringer",
      "photoUrl": "https://lh3.googleusercontent.com/a/default-user=s64",
      "userId": "01578219706214200456"
     },
     "user_tz": -240
    },
    "id": "Iy_QIcqHtR37",
    "outputId": "0e25ee77-5390-43ed-f8ab-1057592011da"
   },
   "outputs": [
    {
     "data": {
      "text/plain": [
       "<matplotlib.collections.PathCollection at 0x1c06bd90c10>"
      ]
     },
     "execution_count": 96,
     "metadata": {},
     "output_type": "execute_result"
    },
    {
     "data": {
      "image/png": "[encoded data removed]",
      "text/plain": [
       "<Figure size 432x288 with 1 Axes>"
      ]
     },
     "metadata": {
      "needs_background": "light"
     },
     "output_type": "display_data"
    }
   ],
   "source": [
    "plt.scatter(cloud1[:, 0], cloud1[:, 1])\n",
    "plt.scatter(cloud2[:, 0], cloud2[:, 1])"
   ]
  },
  {
   "cell_type": "markdown",
   "metadata": {
    "id": "3DDFqm3VuvkW"
   },
   "source": [
    "#### Вычисление среднего и СКО для каждого облака точек\n",
    "----\n",
    "#### Calculate mean and std for each cloud"
   ]
  },
  {
   "cell_type": "code",
   "execution_count": 97,
   "metadata": {
    "colab": {
     "base_uri": "https://localhost:8080/"
    },
    "executionInfo": {
     "elapsed": 466,
     "status": "ok",
     "timestamp": 1631626337237,
     "user": {
      "displayName": "Rustam Paringer",
      "photoUrl": "https://lh3.googleusercontent.com/a/default-user=s64",
      "userId": "01578219706214200456"
     },
     "user_tz": -240
    },
    "id": "12Klt5BJu5nz",
    "outputId": "dc375c90-7101-4d84-8fbf-259b4aa362f8"
   },
   "outputs": [
    {
     "name": "stdout",
     "output_type": "stream",
     "text": [
      "1.9325199773083943\n",
      "0.9883544316558162\n",
      "[1.9390526  1.92598736]\n"
     ]
    }
   ],
   "source": [
    "print(cloud1.mean())\n",
    "print(cloud1.std())\n",
    "# Заметим что среднее по 0 оси (axis=0) примерно равно сдвигу, который мы делали \n",
    "# ранее\n",
    "# Последнее среднее - это центр облака\n",
    "print(cloud1.mean(axis=0)) "
   ]
  },
  {
   "cell_type": "code",
   "execution_count": 98,
   "metadata": {
    "colab": {
     "base_uri": "https://localhost:8080/"
    },
    "executionInfo": {
     "elapsed": 20,
     "status": "ok",
     "timestamp": 1631626337238,
     "user": {
      "displayName": "Rustam Paringer",
      "photoUrl": "https://lh3.googleusercontent.com/a/default-user=s64",
      "userId": "01578219706214200456"
     },
     "user_tz": -240
    },
    "id": "qBh4X4QEu5JW",
    "outputId": "38dc3d63-8551-4cb6-96ed-52d712751db4"
   },
   "outputs": [
    {
     "name": "stdout",
     "output_type": "stream",
     "text": [
      "-2.067480022691606\n",
      "0.9883544316558163\n",
      "[-2.0609474  -2.07401264]\n"
     ]
    }
   ],
   "source": [
    "print(cloud2.mean())\n",
    "print(cloud2.std())\n",
    "# Note that mean along the 0 axis is roughly equal to the shift we've done \n",
    "# before\n",
    "# The last mean is the center of the cloud\n",
    "print(cloud2.mean(axis=0))"
   ]
  },
  {
   "cell_type": "markdown",
   "metadata": {
    "id": "-11arB6gtXdC"
   },
   "source": [
    "#### Объединение матриц в одну и создание аннотаций\n",
    "----\n",
    "#### Merge both matrices into one and create annotations "
   ]
  },
  {
   "cell_type": "code",
   "execution_count": 99,
   "metadata": {
    "colab": {
     "base_uri": "https://localhost:8080/"
    },
    "executionInfo": {
     "elapsed": 263,
     "status": "ok",
     "timestamp": 1632081998424,
     "user": {
      "displayName": "Rustam Paringer",
      "photoUrl": "https://lh3.googleusercontent.com/a/default-user=s64",
      "userId": "01578219706214200456"
     },
     "user_tz": -240
    },
    "id": "KQEFFDtQtUqM",
    "outputId": "ecd5c7ba-e690-4348-dbd1-0448d0312564"
   },
   "outputs": [
    {
     "data": {
      "text/plain": [
       "(120, 2)"
      ]
     },
     "execution_count": 99,
     "metadata": {},
     "output_type": "execute_result"
    }
   ],
   "source": [
    "X = np.vstack([cloud1, cloud2])\n",
    "X.shape"
   ]
  },
  {
   "cell_type": "markdown",
   "metadata": {
    "id": "3FXYDtH06fOo"
   },
   "source": [
    "Структуры данных в Python: https://docs.python.org/3/tutorial/datastructures.html"
   ]
  },
  {
   "cell_type": "code",
   "execution_count": 100,
   "metadata": {
    "colab": {
     "base_uri": "https://localhost:8080/"
    },
    "executionInfo": {
     "elapsed": 4,
     "status": "ok",
     "timestamp": 1632081999778,
     "user": {
      "displayName": "Rustam Paringer",
      "photoUrl": "https://lh3.googleusercontent.com/a/default-user=s64",
      "userId": "01578219706214200456"
     },
     "user_tz": -240
    },
    "id": "fckTmY11tyv8",
    "outputId": "2940317c-942c-4c63-c34c-5cd14dc1801b"
   },
   "outputs": [
    {
     "name": "stdout",
     "output_type": "stream",
     "text": [
      "[0, 0, 0, 0, 0, 0, 0, 0, 0, 0, 0, 0, 0, 0, 0, 0, 0, 0, 0, 0, 0, 0, 0, 0, 0, 0, 0, 0, 0, 0, 0, 0, 0, 0, 0, 0, 0, 0, 0, 0, 0, 0, 0, 0, 0, 0, 0, 0, 0, 0, 0, 0, 0, 0, 0, 0, 0, 0, 0, 0]\n",
      "[1, 1, 1, 1, 1, 1, 1, 1, 1, 1, 1, 1, 1, 1, 1, 1, 1, 1, 1, 1, 1, 1, 1, 1, 1, 1, 1, 1, 1, 1, 1, 1, 1, 1, 1, 1, 1, 1, 1, 1, 1, 1, 1, 1, 1, 1, 1, 1, 1, 1, 1, 1, 1, 1, 1, 1, 1, 1, 1, 1]\n",
      "[0, 0, 0, 0, 0, 0, 0, 0, 0, 0, 0, 0, 0, 0, 0, 0, 0, 0, 0, 0, 0, 0, 0, 0, 0, 0, 0, 0, 0, 0, 0, 0, 0, 0, 0, 0, 0, 0, 0, 0, 0, 0, 0, 0, 0, 0, 0, 0, 0, 0, 0, 0, 0, 0, 0, 0, 0, 0, 0, 0, 1, 1, 1, 1, 1, 1, 1, 1, 1, 1, 1, 1, 1, 1, 1, 1, 1, 1, 1, 1, 1, 1, 1, 1, 1, 1, 1, 1, 1, 1, 1, 1, 1, 1, 1, 1, 1, 1, 1, 1, 1, 1, 1, 1, 1, 1, 1, 1, 1, 1, 1, 1, 1, 1, 1, 1, 1, 1, 1, 1]\n"
     ]
    }
   ],
   "source": [
    "annotation1 = [0] * cloud1.shape[0] # Создание списка (python.list) с 60 нулями (метки первого класса); Create an array (python.list) with 60 zeros (first class labels)\n",
    "print(annotation1)\n",
    "annotation2 = [1] * cloud2.shape[0] # Создание списка с 60 единицами (метки второго класса); Create an array with 60 ones (second class labels)\n",
    "print(annotation2)\n",
    "y = annotation1 + annotation2 # объединения списков; lists concatenation \n",
    "print(y)"
   ]
  },
  {
   "cell_type": "code",
   "execution_count": 101,
   "metadata": {
    "colab": {
     "base_uri": "https://localhost:8080/",
     "height": 282
    },
    "executionInfo": {
     "elapsed": 387,
     "status": "ok",
     "timestamp": 1632082000458,
     "user": {
      "displayName": "Rustam Paringer",
      "photoUrl": "https://lh3.googleusercontent.com/a/default-user=s64",
      "userId": "01578219706214200456"
     },
     "user_tz": -240
    },
    "id": "hxzj4LBIuVH1",
    "outputId": "71083e3b-0a96-4775-a82b-c3253e5c0ce2"
   },
   "outputs": [
    {
     "data": {
      "text/plain": [
       "<matplotlib.collections.PathCollection at 0x1c06bde1cd0>"
      ]
     },
     "execution_count": 101,
     "metadata": {},
     "output_type": "execute_result"
    },
    {
     "data": {
      "image/png": "[encoded data removed]",
      "text/plain": [
       "<Figure size 432x288 with 1 Axes>"
      ]
     },
     "metadata": {
      "needs_background": "light"
     },
     "output_type": "display_data"
    }
   ],
   "source": [
    "plt.scatter(X[:,0], X[:,1], c=y)"
   ]
  },
  {
   "cell_type": "markdown",
   "metadata": {
    "id": "35TaqJFswrzC"
   },
   "source": [
    "#### Подключение google drive к google colaboratory\n",
    "----\n",
    "#### Mounting google drive to google colaboratory"
   ]
  },
  {
   "cell_type": "code",
   "execution_count": 102,
   "metadata": {
    "id": "ftpnvxeDw4o5"
   },
   "outputs": [
    {
     "ename": "ModuleNotFoundError",
     "evalue": "No module named 'google'",
     "output_type": "error",
     "traceback": [
      "\u001b[1;31m---------------------------------------------------------------------------\u001b[0m",
      "\u001b[1;31mModuleNotFoundError\u001b[0m                       Traceback (most recent call last)",
      "\u001b[1;32m<ipython-input-102-9ddb79bc6a3b>\u001b[0m in \u001b[0;36m<module>\u001b[1;34m\u001b[0m\n\u001b[1;32m----> 1\u001b[1;33m \u001b[1;32mfrom\u001b[0m \u001b[0mgoogle\u001b[0m\u001b[1;33m.\u001b[0m\u001b[0mcolab\u001b[0m \u001b[1;32mimport\u001b[0m \u001b[0mdrive\u001b[0m\u001b[1;33m\u001b[0m\u001b[1;33m\u001b[0m\u001b[0m\n\u001b[0m\u001b[0;32m      2\u001b[0m \u001b[0mdrive\u001b[0m\u001b[1;33m.\u001b[0m\u001b[0mmount\u001b[0m\u001b[1;33m(\u001b[0m\u001b[1;34m'/content/drive/'\u001b[0m\u001b[1;33m)\u001b[0m\u001b[1;33m\u001b[0m\u001b[1;33m\u001b[0m\u001b[0m\n",
      "\u001b[1;31mModuleNotFoundError\u001b[0m: No module named 'google'"
     ]
    }
   ],
   "source": [
    "from google.colab import drive\n",
    "drive.mount('/content/drive/') "
   ]
  },
  {
   "cell_type": "markdown",
   "metadata": {
    "id": "d1eeBBVHxIgs"
   },
   "source": [
    "С этого момента вы можете использовать ваш google drive\n",
    "\n",
    "Ваш собственный google drive доступен через папку `/content/drive/MyDrive`\n",
    "\n",
    "\n",
    "----\n",
    "At this point you are able to use both yours google drive\n",
    "\n",
    "Yours google drive accessible via `/content/drive/MyDrive`"
   ]
  },
  {
   "cell_type": "markdown",
   "metadata": {
    "id": "pBuhdGPXzUrz"
   },
   "source": [
    "Ссылка на оббщую папку с файлами лабораторных:\n",
    "\n",
    "----\n",
    "Link on shared folder with lab's files: \n",
    "\n",
    "https://drive.google.com/drive/folders/1rvGa7w0oEDkwzFz5WMPZX5bn2xQBpQhK?usp=sharing"
   ]
  },
  {
   "cell_type": "markdown",
   "metadata": {
    "id": "dOkYOL__zn0S"
   },
   "source": [
    "Для того, чтобы данная общая папка была доступна в __вашем__ _google colaboratory_ необходимо создать ярлык. Как это сделать показано на следующем скриншоте.\n",
    "\n",
    "После создания ярлыка, вы сможете получить доступ к общей папке. Например по следующему пути (в зависимости от того где вы создали ярлык):\n",
    "`/content/drive/MyDrive/ml_labs_data` \n",
    "\n",
    "----\n",
    "In order to make the shared folder available in __your__ _google colaboratory_ you need to create a shortcut. How to do this is shown on the following screenshot.\n",
    "\n",
    "After creating the shortcut you will be able to access the shared folder. For example by the next path: (According in which folder the shortcut was created) `/content/drive/MyDrive/ml_labs_data` "
   ]
  },
  {
   "cell_type": "markdown",
   "metadata": {
    "id": "nz5uouPN0IFZ"
   },
   "source": [
    "![image.png](data:image/png;base64,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)"
   ]
  },
  {
   "cell_type": "markdown",
   "metadata": {
    "id": "1qiyKWQKvizu"
   },
   "source": [
    "### Pandas \n",
    "\n",
    "* Установка с помощью командной строки: `pip install pandas`\n",
    "* Установка в jupyter notebook: `!pip install pandas`\n",
    "(Префикс `!` указывает, что текущую клетку нужно выполнить в командной строке)\n",
    "\n",
    "В google colaboratory pandas предустановлен\n",
    "\n",
    "---\n",
    "* Install via command line: `pip install pandas`\n",
    "* Install via jupyter notebook: `!pip install pandas`\n",
    "(Prefix `!` indicates that the command should be executed inside terminal))\n",
    "\n",
    "Google colaboratory has preinstalled pandas.\n",
    "\n",
    "Official beginner's guide:\n",
    "https://pandas.pydata.org/docs/user_guide/10min.html\n",
    "\n"
   ]
  },
  {
   "cell_type": "code",
   "execution_count": 61,
   "metadata": {
    "id": "JCI3VpwfusDo"
   },
   "outputs": [
    {
     "data": {
      "text/plain": [
       "'1.0.5'"
      ]
     },
     "execution_count": 61,
     "metadata": {},
     "output_type": "execute_result"
    }
   ],
   "source": [
    "import pandas as pd\n",
    "pd.__version__"
   ]
  },
  {
   "cell_type": "markdown",
   "metadata": {
    "id": "fULU69oev5-1"
   },
   "source": [
    "#### Чтение данных\n",
    "----\n",
    "#### Data reading"
   ]
  },
  {
   "cell_type": "code",
   "execution_count": 62,
   "metadata": {
    "id": "Wgvm3DCTv4UV"
   },
   "outputs": [
    {
     "ename": "FileNotFoundError",
     "evalue": "[Errno 2] File /content/drive/MyDrive/ml_labs_data/ml_lab_1/Data_Lab1_Test.csv does not exist: '/content/drive/MyDrive/ml_labs_data/ml_lab_1/Data_Lab1_Test.csv'",
     "output_type": "error",
     "traceback": [
      "\u001b[1;31m---------------------------------------------------------------------------\u001b[0m",
      "\u001b[1;31mFileNotFoundError\u001b[0m                         Traceback (most recent call last)",
      "\u001b[1;32m<ipython-input-62-1c1c74bee48c>\u001b[0m in \u001b[0;36m<module>\u001b[1;34m\u001b[0m\n\u001b[1;32m----> 1\u001b[1;33m \u001b[0mauto_df\u001b[0m \u001b[1;33m=\u001b[0m \u001b[0mpd\u001b[0m\u001b[1;33m.\u001b[0m\u001b[0mread_csv\u001b[0m\u001b[1;33m(\u001b[0m\u001b[1;34m\"/content/drive/MyDrive/ml_labs_data/ml_lab_1/Data_Lab1_Test.csv\"\u001b[0m\u001b[1;33m)\u001b[0m\u001b[1;33m\u001b[0m\u001b[1;33m\u001b[0m\u001b[0m\n\u001b[0m\u001b[0;32m      2\u001b[0m \u001b[0mauto_df\u001b[0m\u001b[1;33m.\u001b[0m\u001b[0mcolumns\u001b[0m\u001b[1;33m,\u001b[0m \u001b[0mauto_df\u001b[0m\u001b[1;33m.\u001b[0m\u001b[0mshape\u001b[0m\u001b[1;33m,\u001b[0m \u001b[0mtype\u001b[0m\u001b[1;33m(\u001b[0m\u001b[0mauto_df\u001b[0m\u001b[1;33m)\u001b[0m\u001b[1;33m\u001b[0m\u001b[1;33m\u001b[0m\u001b[0m\n",
      "\u001b[1;32m~\\anaconda3\\lib\\site-packages\\pandas\\io\\parsers.py\u001b[0m in \u001b[0;36mparser_f\u001b[1;34m(filepath_or_buffer, sep, delimiter, header, names, index_col, usecols, squeeze, prefix, mangle_dupe_cols, dtype, engine, converters, true_values, false_values, skipinitialspace, skiprows, skipfooter, nrows, na_values, keep_default_na, na_filter, verbose, skip_blank_lines, parse_dates, infer_datetime_format, keep_date_col, date_parser, dayfirst, cache_dates, iterator, chunksize, compression, thousands, decimal, lineterminator, quotechar, quoting, doublequote, escapechar, comment, encoding, dialect, error_bad_lines, warn_bad_lines, delim_whitespace, low_memory, memory_map, float_precision)\u001b[0m\n\u001b[0;32m    674\u001b[0m         )\n\u001b[0;32m    675\u001b[0m \u001b[1;33m\u001b[0m\u001b[0m\n\u001b[1;32m--> 676\u001b[1;33m         \u001b[1;32mreturn\u001b[0m \u001b[0m_read\u001b[0m\u001b[1;33m(\u001b[0m\u001b[0mfilepath_or_buffer\u001b[0m\u001b[1;33m,\u001b[0m \u001b[0mkwds\u001b[0m\u001b[1;33m)\u001b[0m\u001b[1;33m\u001b[0m\u001b[1;33m\u001b[0m\u001b[0m\n\u001b[0m\u001b[0;32m    677\u001b[0m \u001b[1;33m\u001b[0m\u001b[0m\n\u001b[0;32m    678\u001b[0m     \u001b[0mparser_f\u001b[0m\u001b[1;33m.\u001b[0m\u001b[0m__name__\u001b[0m \u001b[1;33m=\u001b[0m \u001b[0mname\u001b[0m\u001b[1;33m\u001b[0m\u001b[1;33m\u001b[0m\u001b[0m\n",
      "\u001b[1;32m~\\anaconda3\\lib\\site-packages\\pandas\\io\\parsers.py\u001b[0m in \u001b[0;36m_read\u001b[1;34m(filepath_or_buffer, kwds)\u001b[0m\n\u001b[0;32m    446\u001b[0m \u001b[1;33m\u001b[0m\u001b[0m\n\u001b[0;32m    447\u001b[0m     \u001b[1;31m# Create the parser.\u001b[0m\u001b[1;33m\u001b[0m\u001b[1;33m\u001b[0m\u001b[1;33m\u001b[0m\u001b[0m\n\u001b[1;32m--> 448\u001b[1;33m     \u001b[0mparser\u001b[0m \u001b[1;33m=\u001b[0m \u001b[0mTextFileReader\u001b[0m\u001b[1;33m(\u001b[0m\u001b[0mfp_or_buf\u001b[0m\u001b[1;33m,\u001b[0m \u001b[1;33m**\u001b[0m\u001b[0mkwds\u001b[0m\u001b[1;33m)\u001b[0m\u001b[1;33m\u001b[0m\u001b[1;33m\u001b[0m\u001b[0m\n\u001b[0m\u001b[0;32m    449\u001b[0m \u001b[1;33m\u001b[0m\u001b[0m\n\u001b[0;32m    450\u001b[0m     \u001b[1;32mif\u001b[0m \u001b[0mchunksize\u001b[0m \u001b[1;32mor\u001b[0m \u001b[0miterator\u001b[0m\u001b[1;33m:\u001b[0m\u001b[1;33m\u001b[0m\u001b[1;33m\u001b[0m\u001b[0m\n",
      "\u001b[1;32m~\\anaconda3\\lib\\site-packages\\pandas\\io\\parsers.py\u001b[0m in \u001b[0;36m__init__\u001b[1;34m(self, f, engine, **kwds)\u001b[0m\n\u001b[0;32m    878\u001b[0m             \u001b[0mself\u001b[0m\u001b[1;33m.\u001b[0m\u001b[0moptions\u001b[0m\u001b[1;33m[\u001b[0m\u001b[1;34m\"has_index_names\"\u001b[0m\u001b[1;33m]\u001b[0m \u001b[1;33m=\u001b[0m \u001b[0mkwds\u001b[0m\u001b[1;33m[\u001b[0m\u001b[1;34m\"has_index_names\"\u001b[0m\u001b[1;33m]\u001b[0m\u001b[1;33m\u001b[0m\u001b[1;33m\u001b[0m\u001b[0m\n\u001b[0;32m    879\u001b[0m \u001b[1;33m\u001b[0m\u001b[0m\n\u001b[1;32m--> 880\u001b[1;33m         \u001b[0mself\u001b[0m\u001b[1;33m.\u001b[0m\u001b[0m_make_engine\u001b[0m\u001b[1;33m(\u001b[0m\u001b[0mself\u001b[0m\u001b[1;33m.\u001b[0m\u001b[0mengine\u001b[0m\u001b[1;33m)\u001b[0m\u001b[1;33m\u001b[0m\u001b[1;33m\u001b[0m\u001b[0m\n\u001b[0m\u001b[0;32m    881\u001b[0m \u001b[1;33m\u001b[0m\u001b[0m\n\u001b[0;32m    882\u001b[0m     \u001b[1;32mdef\u001b[0m \u001b[0mclose\u001b[0m\u001b[1;33m(\u001b[0m\u001b[0mself\u001b[0m\u001b[1;33m)\u001b[0m\u001b[1;33m:\u001b[0m\u001b[1;33m\u001b[0m\u001b[1;33m\u001b[0m\u001b[0m\n",
      "\u001b[1;32m~\\anaconda3\\lib\\site-packages\\pandas\\io\\parsers.py\u001b[0m in \u001b[0;36m_make_engine\u001b[1;34m(self, engine)\u001b[0m\n\u001b[0;32m   1112\u001b[0m     \u001b[1;32mdef\u001b[0m \u001b[0m_make_engine\u001b[0m\u001b[1;33m(\u001b[0m\u001b[0mself\u001b[0m\u001b[1;33m,\u001b[0m \u001b[0mengine\u001b[0m\u001b[1;33m=\u001b[0m\u001b[1;34m\"c\"\u001b[0m\u001b[1;33m)\u001b[0m\u001b[1;33m:\u001b[0m\u001b[1;33m\u001b[0m\u001b[1;33m\u001b[0m\u001b[0m\n\u001b[0;32m   1113\u001b[0m         \u001b[1;32mif\u001b[0m \u001b[0mengine\u001b[0m \u001b[1;33m==\u001b[0m \u001b[1;34m\"c\"\u001b[0m\u001b[1;33m:\u001b[0m\u001b[1;33m\u001b[0m\u001b[1;33m\u001b[0m\u001b[0m\n\u001b[1;32m-> 1114\u001b[1;33m             \u001b[0mself\u001b[0m\u001b[1;33m.\u001b[0m\u001b[0m_engine\u001b[0m \u001b[1;33m=\u001b[0m \u001b[0mCParserWrapper\u001b[0m\u001b[1;33m(\u001b[0m\u001b[0mself\u001b[0m\u001b[1;33m.\u001b[0m\u001b[0mf\u001b[0m\u001b[1;33m,\u001b[0m \u001b[1;33m**\u001b[0m\u001b[0mself\u001b[0m\u001b[1;33m.\u001b[0m\u001b[0moptions\u001b[0m\u001b[1;33m)\u001b[0m\u001b[1;33m\u001b[0m\u001b[1;33m\u001b[0m\u001b[0m\n\u001b[0m\u001b[0;32m   1115\u001b[0m         \u001b[1;32melse\u001b[0m\u001b[1;33m:\u001b[0m\u001b[1;33m\u001b[0m\u001b[1;33m\u001b[0m\u001b[0m\n\u001b[0;32m   1116\u001b[0m             \u001b[1;32mif\u001b[0m \u001b[0mengine\u001b[0m \u001b[1;33m==\u001b[0m \u001b[1;34m\"python\"\u001b[0m\u001b[1;33m:\u001b[0m\u001b[1;33m\u001b[0m\u001b[1;33m\u001b[0m\u001b[0m\n",
      "\u001b[1;32m~\\anaconda3\\lib\\site-packages\\pandas\\io\\parsers.py\u001b[0m in \u001b[0;36m__init__\u001b[1;34m(self, src, **kwds)\u001b[0m\n\u001b[0;32m   1889\u001b[0m         \u001b[0mkwds\u001b[0m\u001b[1;33m[\u001b[0m\u001b[1;34m\"usecols\"\u001b[0m\u001b[1;33m]\u001b[0m \u001b[1;33m=\u001b[0m \u001b[0mself\u001b[0m\u001b[1;33m.\u001b[0m\u001b[0musecols\u001b[0m\u001b[1;33m\u001b[0m\u001b[1;33m\u001b[0m\u001b[0m\n\u001b[0;32m   1890\u001b[0m \u001b[1;33m\u001b[0m\u001b[0m\n\u001b[1;32m-> 1891\u001b[1;33m         \u001b[0mself\u001b[0m\u001b[1;33m.\u001b[0m\u001b[0m_reader\u001b[0m \u001b[1;33m=\u001b[0m \u001b[0mparsers\u001b[0m\u001b[1;33m.\u001b[0m\u001b[0mTextReader\u001b[0m\u001b[1;33m(\u001b[0m\u001b[0msrc\u001b[0m\u001b[1;33m,\u001b[0m \u001b[1;33m**\u001b[0m\u001b[0mkwds\u001b[0m\u001b[1;33m)\u001b[0m\u001b[1;33m\u001b[0m\u001b[1;33m\u001b[0m\u001b[0m\n\u001b[0m\u001b[0;32m   1892\u001b[0m         \u001b[0mself\u001b[0m\u001b[1;33m.\u001b[0m\u001b[0munnamed_cols\u001b[0m \u001b[1;33m=\u001b[0m \u001b[0mself\u001b[0m\u001b[1;33m.\u001b[0m\u001b[0m_reader\u001b[0m\u001b[1;33m.\u001b[0m\u001b[0munnamed_cols\u001b[0m\u001b[1;33m\u001b[0m\u001b[1;33m\u001b[0m\u001b[0m\n\u001b[0;32m   1893\u001b[0m \u001b[1;33m\u001b[0m\u001b[0m\n",
      "\u001b[1;32mpandas\\_libs\\parsers.pyx\u001b[0m in \u001b[0;36mpandas._libs.parsers.TextReader.__cinit__\u001b[1;34m()\u001b[0m\n",
      "\u001b[1;32mpandas\\_libs\\parsers.pyx\u001b[0m in \u001b[0;36mpandas._libs.parsers.TextReader._setup_parser_source\u001b[1;34m()\u001b[0m\n",
      "\u001b[1;31mFileNotFoundError\u001b[0m: [Errno 2] File /content/drive/MyDrive/ml_labs_data/ml_lab_1/Data_Lab1_Test.csv does not exist: '/content/drive/MyDrive/ml_labs_data/ml_lab_1/Data_Lab1_Test.csv'"
     ]
    }
   ],
   "source": [
    "auto_df = pd.read_csv(\"/content/drive/MyDrive/ml_labs_data/ml_lab_1/Data_Lab1_Test.csv\")\n",
    "auto_df.columns, auto_df.shape, type(auto_df)"
   ]
  },
  {
   "cell_type": "markdown",
   "metadata": {
    "id": "9qU6q-hH1qpI"
   },
   "source": [
    "#### Отображение первых нескольких записей в таблице\n",
    "----\n",
    "#### Show a few first recordings"
   ]
  },
  {
   "cell_type": "code",
   "execution_count": null,
   "metadata": {
    "id": "2wNNqf5Jx-hX"
   },
   "outputs": [],
   "source": [
    "auto_df.head()"
   ]
  },
  {
   "cell_type": "markdown",
   "metadata": {
    "id": "3JRoTeo514K0"
   },
   "source": [
    "#### Отображение последних нескольких записей в таблице\n",
    "----\n",
    "#### Show a few last recordings"
   ]
  },
  {
   "cell_type": "code",
   "execution_count": 63,
   "metadata": {
    "id": "uPY1jIdv1zoz"
   },
   "outputs": [
    {
     "ename": "NameError",
     "evalue": "name 'auto_df' is not defined",
     "output_type": "error",
     "traceback": [
      "\u001b[1;31m---------------------------------------------------------------------------\u001b[0m",
      "\u001b[1;31mNameError\u001b[0m                                 Traceback (most recent call last)",
      "\u001b[1;32m<ipython-input-63-81c3e970a2a0>\u001b[0m in \u001b[0;36m<module>\u001b[1;34m\u001b[0m\n\u001b[1;32m----> 1\u001b[1;33m \u001b[0mauto_df\u001b[0m\u001b[1;33m.\u001b[0m\u001b[0mtail\u001b[0m\u001b[1;33m(\u001b[0m\u001b[1;33m)\u001b[0m\u001b[1;33m\u001b[0m\u001b[1;33m\u001b[0m\u001b[0m\n\u001b[0m",
      "\u001b[1;31mNameError\u001b[0m: name 'auto_df' is not defined"
     ]
    }
   ],
   "source": [
    "auto_df.tail()"
   ]
  },
  {
   "cell_type": "markdown",
   "metadata": {
    "id": "0GYbZiWC2AC0"
   },
   "source": [
    "#### Отображение i-ой строки\n",
    "----\n",
    "#### Show i-th row"
   ]
  },
  {
   "cell_type": "code",
   "execution_count": 64,
   "metadata": {
    "id": "jYFLCV3Q17ak"
   },
   "outputs": [
    {
     "ename": "NameError",
     "evalue": "name 'auto_df' is not defined",
     "output_type": "error",
     "traceback": [
      "\u001b[1;31m---------------------------------------------------------------------------\u001b[0m",
      "\u001b[1;31mNameError\u001b[0m                                 Traceback (most recent call last)",
      "\u001b[1;32m<ipython-input-64-c75374dd5dba>\u001b[0m in \u001b[0;36m<module>\u001b[1;34m\u001b[0m\n\u001b[1;32m----> 1\u001b[1;33m \u001b[0mauto_df\u001b[0m\u001b[1;33m.\u001b[0m\u001b[0mloc\u001b[0m\u001b[1;33m[\u001b[0m\u001b[1;36m0\u001b[0m\u001b[1;33m]\u001b[0m\u001b[1;33m\u001b[0m\u001b[1;33m\u001b[0m\u001b[0m\n\u001b[0m",
      "\u001b[1;31mNameError\u001b[0m: name 'auto_df' is not defined"
     ]
    }
   ],
   "source": [
    "auto_df.loc[0]"
   ]
  },
  {
   "cell_type": "markdown",
   "metadata": {
    "id": "lKnO-zvG2gf4"
   },
   "source": [
    "#### Обращение к определенному столбцу\n",
    "----\n",
    "#### Access the specified column"
   ]
  },
  {
   "cell_type": "code",
   "execution_count": 65,
   "metadata": {
    "id": "AYvMptL12VS3"
   },
   "outputs": [
    {
     "ename": "NameError",
     "evalue": "name 'auto_df' is not defined",
     "output_type": "error",
     "traceback": [
      "\u001b[1;31m---------------------------------------------------------------------------\u001b[0m",
      "\u001b[1;31mNameError\u001b[0m                                 Traceback (most recent call last)",
      "\u001b[1;32m<ipython-input-65-ecc77f881a7b>\u001b[0m in \u001b[0;36m<module>\u001b[1;34m\u001b[0m\n\u001b[1;32m----> 1\u001b[1;33m \u001b[0mauto_df\u001b[0m\u001b[1;33m[\u001b[0m\u001b[1;34m'mpg'\u001b[0m\u001b[1;33m]\u001b[0m\u001b[1;33m[\u001b[0m\u001b[1;33m:\u001b[0m\u001b[1;36m10\u001b[0m\u001b[1;33m]\u001b[0m\u001b[1;33m\u001b[0m\u001b[1;33m\u001b[0m\u001b[0m\n\u001b[0m",
      "\u001b[1;31mNameError\u001b[0m: name 'auto_df' is not defined"
     ]
    }
   ],
   "source": [
    "auto_df['mpg'][:10]"
   ]
  },
  {
   "cell_type": "code",
   "execution_count": 66,
   "metadata": {
    "id": "AUeIN5OP2aKw"
   },
   "outputs": [
    {
     "ename": "NameError",
     "evalue": "name 'auto_df' is not defined",
     "output_type": "error",
     "traceback": [
      "\u001b[1;31m---------------------------------------------------------------------------\u001b[0m",
      "\u001b[1;31mNameError\u001b[0m                                 Traceback (most recent call last)",
      "\u001b[1;32m<ipython-input-66-75685903d798>\u001b[0m in \u001b[0;36m<module>\u001b[1;34m\u001b[0m\n\u001b[1;32m----> 1\u001b[1;33m \u001b[0mauto_df\u001b[0m\u001b[1;33m.\u001b[0m\u001b[0mdescribe\u001b[0m\u001b[1;33m(\u001b[0m\u001b[1;33m)\u001b[0m\u001b[1;33m\u001b[0m\u001b[1;33m\u001b[0m\u001b[0m\n\u001b[0m",
      "\u001b[1;31mNameError\u001b[0m: name 'auto_df' is not defined"
     ]
    }
   ],
   "source": [
    "auto_df.describe()"
   ]
  },
  {
   "cell_type": "markdown",
   "metadata": {
    "id": "L-OuNCIs25gl"
   },
   "source": [
    "#### Визуализаця данных\n",
    "----\n",
    "#### Data visualization"
   ]
  },
  {
   "cell_type": "code",
   "execution_count": 67,
   "metadata": {
    "id": "aiFtaFKS21my"
   },
   "outputs": [
    {
     "ename": "NameError",
     "evalue": "name 'auto_df' is not defined",
     "output_type": "error",
     "traceback": [
      "\u001b[1;31m---------------------------------------------------------------------------\u001b[0m",
      "\u001b[1;31mNameError\u001b[0m                                 Traceback (most recent call last)",
      "\u001b[1;32m<ipython-input-67-f2061aaa820f>\u001b[0m in \u001b[0;36m<module>\u001b[1;34m\u001b[0m\n\u001b[0;32m      1\u001b[0m \u001b[0mplt\u001b[0m\u001b[1;33m.\u001b[0m\u001b[0mylabel\u001b[0m\u001b[1;33m(\u001b[0m\u001b[1;34m\"MPG\"\u001b[0m\u001b[1;33m)\u001b[0m\u001b[1;33m\u001b[0m\u001b[1;33m\u001b[0m\u001b[0m\n\u001b[1;32m----> 2\u001b[1;33m \u001b[0mauto_df\u001b[0m\u001b[1;33m.\u001b[0m\u001b[0mplot\u001b[0m\u001b[1;33m(\u001b[0m\u001b[0mx\u001b[0m\u001b[1;33m=\u001b[0m\u001b[1;34m\"cylinders\"\u001b[0m\u001b[1;33m,\u001b[0m \u001b[0my\u001b[0m\u001b[1;33m=\u001b[0m\u001b[1;34m\"mpg\"\u001b[0m\u001b[1;33m,\u001b[0m \u001b[0mstyle\u001b[0m\u001b[1;33m=\u001b[0m\u001b[1;34m'o'\u001b[0m\u001b[1;33m)\u001b[0m\u001b[1;33m\u001b[0m\u001b[1;33m\u001b[0m\u001b[0m\n\u001b[0m",
      "\u001b[1;31mNameError\u001b[0m: name 'auto_df' is not defined"
     ]
    },
    {
     "data": {
      "image/png": "[encoded data removed]",
      "text/plain": [
       "<Figure size 432x288 with 1 Axes>"
      ]
     },
     "metadata": {
      "needs_background": "light"
     },
     "output_type": "display_data"
    }
   ],
   "source": [
    "plt.ylabel(\"MPG\")\n",
    "auto_df.plot(x=\"cylinders\", y=\"mpg\", style='o')"
   ]
  },
  {
   "cell_type": "code",
   "execution_count": null,
   "metadata": {
    "id": "SOxMaxC_2-bZ"
   },
   "outputs": [],
   "source": [
    "auto_df.boxplot(column=\"mpg\", by=\"cylinders\") # MPG distribution by number of cylinders"
   ]
  },
  {
   "cell_type": "code",
   "execution_count": null,
   "metadata": {
    "id": "OLJSAMoR3A3S"
   },
   "outputs": [],
   "source": [
    "axes = pd.plotting.scatter_matrix(auto_df, color=\"brown\", figsize=(15, 15))"
   ]
  },
  {
   "cell_type": "markdown",
   "metadata": {
    "id": "D93-1oGq3a6Z"
   },
   "source": [
    "### scikit-learn \n",
    "\n",
    "* Установка с помощью командной строки: `pip install scikit-learn`\n",
    "* Установка в jupyter notebook: `!pip install scikit-learn`\n",
    "(Префикс `!` указывает, что текущую клетку нужно выполнить в командной строке)\n",
    "\n",
    "В google colaboratory scikit-learn предустановлен\n",
    "\n",
    "---\n",
    "* Install via command line: `pip install scikit-learn`\n",
    "* Install via jupyter notebook: `!pip install scikit-learn`\n",
    "(Prefix `!` indicates that the command should be executed inside terminal))\n",
    "\n",
    "Google colaboratory has preinstalled scikit-learn.\n",
    "\n",
    "Official user guide:\n",
    "https://scikit-learn.org/stable/user_guide.html\n",
    "\n"
   ]
  },
  {
   "cell_type": "code",
   "execution_count": 68,
   "metadata": {
    "colab": {
     "base_uri": "https://localhost:8080/",
     "height": 35
    },
    "executionInfo": {
     "elapsed": 768,
     "status": "ok",
     "timestamp": 1632081984858,
     "user": {
      "displayName": "Rustam Paringer",
      "photoUrl": "https://lh3.googleusercontent.com/a/default-user=s64",
      "userId": "01578219706214200456"
     },
     "user_tz": -240
    },
    "id": "93y7otKd3GN-",
    "outputId": "58025de3-ecad-4a14-ad54-f58fb31cfae5"
   },
   "outputs": [
    {
     "data": {
      "text/plain": [
       "'1.1.2'"
      ]
     },
     "execution_count": 68,
     "metadata": {},
     "output_type": "execute_result"
    }
   ],
   "source": [
    "import sklearn\n",
    "sklearn.__version__"
   ]
  },
  {
   "cell_type": "code",
   "execution_count": 93,
   "metadata": {
    "id": "cQH6tNct30VZ"
   },
   "outputs": [],
   "source": [
    "from sklearn.linear_model import LogisticRegression\n",
    "from sklearn.metrics import confusion_matrix\n",
    "from sklearn.metrics import accuracy_score\n",
    "from sklearn.utils import shuffle"
   ]
  },
  {
   "cell_type": "markdown",
   "metadata": {
    "id": "gUnCjQ0D39ec"
   },
   "source": [
    "Для демонстрации будем использовать данные сгенерированные ранее\n",
    "\n",
    "----\n",
    "For the demonstration purposes we will use data generated before"
   ]
  },
  {
   "cell_type": "code",
   "execution_count": 94,
   "metadata": {
    "colab": {
     "base_uri": "https://localhost:8080/",
     "height": 282
    },
    "executionInfo": {
     "elapsed": 327,
     "status": "ok",
     "timestamp": 1632082006455,
     "user": {
      "displayName": "Rustam Paringer",
      "photoUrl": "https://lh3.googleusercontent.com/a/default-user=s64",
      "userId": "01578219706214200456"
     },
     "user_tz": -240
    },
    "id": "bcs63DLW316T",
    "outputId": "c66876f8-2e77-4fc2-f855-91f1cf7c739a"
   },
   "outputs": [
    {
     "ename": "ValueError",
     "evalue": "'c' argument has 50 elements, which is inconsistent with 'x' and 'y' with size 120.",
     "output_type": "error",
     "traceback": [
      "\u001b[1;31m---------------------------------------------------------------------------\u001b[0m",
      "\u001b[1;31mValueError\u001b[0m                                Traceback (most recent call last)",
      "\u001b[1;32m~\\anaconda3\\lib\\site-packages\\matplotlib\\axes\\_axes.py\u001b[0m in \u001b[0;36m_parse_scatter_color_args\u001b[1;34m(c, edgecolors, kwargs, xsize, get_next_color_func)\u001b[0m\n\u001b[0;32m   4238\u001b[0m             \u001b[1;32mtry\u001b[0m\u001b[1;33m:\u001b[0m  \u001b[1;31m# Is 'c' acceptable as PathCollection facecolors?\u001b[0m\u001b[1;33m\u001b[0m\u001b[1;33m\u001b[0m\u001b[0m\n\u001b[1;32m-> 4239\u001b[1;33m                 \u001b[0mcolors\u001b[0m \u001b[1;33m=\u001b[0m \u001b[0mmcolors\u001b[0m\u001b[1;33m.\u001b[0m\u001b[0mto_rgba_array\u001b[0m\u001b[1;33m(\u001b[0m\u001b[0mc\u001b[0m\u001b[1;33m)\u001b[0m\u001b[1;33m\u001b[0m\u001b[1;33m\u001b[0m\u001b[0m\n\u001b[0m\u001b[0;32m   4240\u001b[0m             \u001b[1;32mexcept\u001b[0m \u001b[0mValueError\u001b[0m\u001b[1;33m:\u001b[0m\u001b[1;33m\u001b[0m\u001b[1;33m\u001b[0m\u001b[0m\n",
      "\u001b[1;32m~\\anaconda3\\lib\\site-packages\\matplotlib\\colors.py\u001b[0m in \u001b[0;36mto_rgba_array\u001b[1;34m(c, alpha)\u001b[0m\n\u001b[0;32m    339\u001b[0m     \u001b[1;32melse\u001b[0m\u001b[1;33m:\u001b[0m\u001b[1;33m\u001b[0m\u001b[1;33m\u001b[0m\u001b[0m\n\u001b[1;32m--> 340\u001b[1;33m         \u001b[1;32mreturn\u001b[0m \u001b[0mnp\u001b[0m\u001b[1;33m.\u001b[0m\u001b[0marray\u001b[0m\u001b[1;33m(\u001b[0m\u001b[1;33m[\u001b[0m\u001b[0mto_rgba\u001b[0m\u001b[1;33m(\u001b[0m\u001b[0mcc\u001b[0m\u001b[1;33m,\u001b[0m \u001b[0malpha\u001b[0m\u001b[1;33m)\u001b[0m \u001b[1;32mfor\u001b[0m \u001b[0mcc\u001b[0m \u001b[1;32min\u001b[0m \u001b[0mc\u001b[0m\u001b[1;33m]\u001b[0m\u001b[1;33m)\u001b[0m\u001b[1;33m\u001b[0m\u001b[1;33m\u001b[0m\u001b[0m\n\u001b[0m\u001b[0;32m    341\u001b[0m \u001b[1;33m\u001b[0m\u001b[0m\n",
      "\u001b[1;32m~\\anaconda3\\lib\\site-packages\\matplotlib\\colors.py\u001b[0m in \u001b[0;36m<listcomp>\u001b[1;34m(.0)\u001b[0m\n\u001b[0;32m    339\u001b[0m     \u001b[1;32melse\u001b[0m\u001b[1;33m:\u001b[0m\u001b[1;33m\u001b[0m\u001b[1;33m\u001b[0m\u001b[0m\n\u001b[1;32m--> 340\u001b[1;33m         \u001b[1;32mreturn\u001b[0m \u001b[0mnp\u001b[0m\u001b[1;33m.\u001b[0m\u001b[0marray\u001b[0m\u001b[1;33m(\u001b[0m\u001b[1;33m[\u001b[0m\u001b[0mto_rgba\u001b[0m\u001b[1;33m(\u001b[0m\u001b[0mcc\u001b[0m\u001b[1;33m,\u001b[0m \u001b[0malpha\u001b[0m\u001b[1;33m)\u001b[0m \u001b[1;32mfor\u001b[0m \u001b[0mcc\u001b[0m \u001b[1;32min\u001b[0m \u001b[0mc\u001b[0m\u001b[1;33m]\u001b[0m\u001b[1;33m)\u001b[0m\u001b[1;33m\u001b[0m\u001b[1;33m\u001b[0m\u001b[0m\n\u001b[0m\u001b[0;32m    341\u001b[0m \u001b[1;33m\u001b[0m\u001b[0m\n",
      "\u001b[1;32m~\\anaconda3\\lib\\site-packages\\matplotlib\\colors.py\u001b[0m in \u001b[0;36mto_rgba\u001b[1;34m(c, alpha)\u001b[0m\n\u001b[0;32m    184\u001b[0m     \u001b[1;32mif\u001b[0m \u001b[0mrgba\u001b[0m \u001b[1;32mis\u001b[0m \u001b[1;32mNone\u001b[0m\u001b[1;33m:\u001b[0m  \u001b[1;31m# Suppress exception chaining of cache lookup failure.\u001b[0m\u001b[1;33m\u001b[0m\u001b[1;33m\u001b[0m\u001b[0m\n\u001b[1;32m--> 185\u001b[1;33m         \u001b[0mrgba\u001b[0m \u001b[1;33m=\u001b[0m \u001b[0m_to_rgba_no_colorcycle\u001b[0m\u001b[1;33m(\u001b[0m\u001b[0mc\u001b[0m\u001b[1;33m,\u001b[0m \u001b[0malpha\u001b[0m\u001b[1;33m)\u001b[0m\u001b[1;33m\u001b[0m\u001b[1;33m\u001b[0m\u001b[0m\n\u001b[0m\u001b[0;32m    186\u001b[0m         \u001b[1;32mtry\u001b[0m\u001b[1;33m:\u001b[0m\u001b[1;33m\u001b[0m\u001b[1;33m\u001b[0m\u001b[0m\n",
      "\u001b[1;32m~\\anaconda3\\lib\\site-packages\\matplotlib\\colors.py\u001b[0m in \u001b[0;36m_to_rgba_no_colorcycle\u001b[1;34m(c, alpha)\u001b[0m\n\u001b[0;32m    267\u001b[0m         \u001b[1;31m# Test dimensionality to reject single floats.\u001b[0m\u001b[1;33m\u001b[0m\u001b[1;33m\u001b[0m\u001b[1;33m\u001b[0m\u001b[0m\n\u001b[1;32m--> 268\u001b[1;33m         \u001b[1;32mraise\u001b[0m \u001b[0mValueError\u001b[0m\u001b[1;33m(\u001b[0m\u001b[1;34mf\"Invalid RGBA argument: {orig_c!r}\"\u001b[0m\u001b[1;33m)\u001b[0m\u001b[1;33m\u001b[0m\u001b[1;33m\u001b[0m\u001b[0m\n\u001b[0m\u001b[0;32m    269\u001b[0m     \u001b[1;31m# Return a tuple to prevent the cached value from being modified.\u001b[0m\u001b[1;33m\u001b[0m\u001b[1;33m\u001b[0m\u001b[1;33m\u001b[0m\u001b[0m\n",
      "\u001b[1;31mValueError\u001b[0m: Invalid RGBA argument: 0.12598017026409877",
      "\nDuring handling of the above exception, another exception occurred:\n",
      "\u001b[1;31mValueError\u001b[0m                                Traceback (most recent call last)",
      "\u001b[1;32m<ipython-input-94-9a90d352b9c6>\u001b[0m in \u001b[0;36m<module>\u001b[1;34m\u001b[0m\n\u001b[1;32m----> 1\u001b[1;33m \u001b[0mplt\u001b[0m\u001b[1;33m.\u001b[0m\u001b[0mscatter\u001b[0m\u001b[1;33m(\u001b[0m\u001b[0mX\u001b[0m\u001b[1;33m[\u001b[0m\u001b[1;33m:\u001b[0m\u001b[1;33m,\u001b[0m\u001b[1;36m0\u001b[0m\u001b[1;33m]\u001b[0m\u001b[1;33m,\u001b[0m \u001b[0mX\u001b[0m\u001b[1;33m[\u001b[0m\u001b[1;33m:\u001b[0m\u001b[1;33m,\u001b[0m\u001b[1;36m1\u001b[0m\u001b[1;33m]\u001b[0m\u001b[1;33m,\u001b[0m \u001b[0mc\u001b[0m\u001b[1;33m=\u001b[0m\u001b[0my\u001b[0m\u001b[1;33m)\u001b[0m\u001b[1;33m\u001b[0m\u001b[1;33m\u001b[0m\u001b[0m\n\u001b[0m",
      "\u001b[1;32m~\\anaconda3\\lib\\site-packages\\matplotlib\\pyplot.py\u001b[0m in \u001b[0;36mscatter\u001b[1;34m(x, y, s, c, marker, cmap, norm, vmin, vmax, alpha, linewidths, verts, edgecolors, plotnonfinite, data, **kwargs)\u001b[0m\n\u001b[0;32m   2809\u001b[0m         \u001b[0mverts\u001b[0m\u001b[1;33m=\u001b[0m\u001b[0mcbook\u001b[0m\u001b[1;33m.\u001b[0m\u001b[0mdeprecation\u001b[0m\u001b[1;33m.\u001b[0m\u001b[0m_deprecated_parameter\u001b[0m\u001b[1;33m,\u001b[0m\u001b[1;33m\u001b[0m\u001b[1;33m\u001b[0m\u001b[0m\n\u001b[0;32m   2810\u001b[0m         edgecolors=None, *, plotnonfinite=False, data=None, **kwargs):\n\u001b[1;32m-> 2811\u001b[1;33m     __ret = gca().scatter(\n\u001b[0m\u001b[0;32m   2812\u001b[0m         \u001b[0mx\u001b[0m\u001b[1;33m,\u001b[0m \u001b[0my\u001b[0m\u001b[1;33m,\u001b[0m \u001b[0ms\u001b[0m\u001b[1;33m=\u001b[0m\u001b[0ms\u001b[0m\u001b[1;33m,\u001b[0m \u001b[0mc\u001b[0m\u001b[1;33m=\u001b[0m\u001b[0mc\u001b[0m\u001b[1;33m,\u001b[0m \u001b[0mmarker\u001b[0m\u001b[1;33m=\u001b[0m\u001b[0mmarker\u001b[0m\u001b[1;33m,\u001b[0m \u001b[0mcmap\u001b[0m\u001b[1;33m=\u001b[0m\u001b[0mcmap\u001b[0m\u001b[1;33m,\u001b[0m \u001b[0mnorm\u001b[0m\u001b[1;33m=\u001b[0m\u001b[0mnorm\u001b[0m\u001b[1;33m,\u001b[0m\u001b[1;33m\u001b[0m\u001b[1;33m\u001b[0m\u001b[0m\n\u001b[0;32m   2813\u001b[0m         \u001b[0mvmin\u001b[0m\u001b[1;33m=\u001b[0m\u001b[0mvmin\u001b[0m\u001b[1;33m,\u001b[0m \u001b[0mvmax\u001b[0m\u001b[1;33m=\u001b[0m\u001b[0mvmax\u001b[0m\u001b[1;33m,\u001b[0m \u001b[0malpha\u001b[0m\u001b[1;33m=\u001b[0m\u001b[0malpha\u001b[0m\u001b[1;33m,\u001b[0m \u001b[0mlinewidths\u001b[0m\u001b[1;33m=\u001b[0m\u001b[0mlinewidths\u001b[0m\u001b[1;33m,\u001b[0m\u001b[1;33m\u001b[0m\u001b[1;33m\u001b[0m\u001b[0m\n",
      "\u001b[1;32m~\\anaconda3\\lib\\site-packages\\matplotlib\\__init__.py\u001b[0m in \u001b[0;36minner\u001b[1;34m(ax, data, *args, **kwargs)\u001b[0m\n\u001b[0;32m   1563\u001b[0m     \u001b[1;32mdef\u001b[0m \u001b[0minner\u001b[0m\u001b[1;33m(\u001b[0m\u001b[0max\u001b[0m\u001b[1;33m,\u001b[0m \u001b[1;33m*\u001b[0m\u001b[0margs\u001b[0m\u001b[1;33m,\u001b[0m \u001b[0mdata\u001b[0m\u001b[1;33m=\u001b[0m\u001b[1;32mNone\u001b[0m\u001b[1;33m,\u001b[0m \u001b[1;33m**\u001b[0m\u001b[0mkwargs\u001b[0m\u001b[1;33m)\u001b[0m\u001b[1;33m:\u001b[0m\u001b[1;33m\u001b[0m\u001b[1;33m\u001b[0m\u001b[0m\n\u001b[0;32m   1564\u001b[0m         \u001b[1;32mif\u001b[0m \u001b[0mdata\u001b[0m \u001b[1;32mis\u001b[0m \u001b[1;32mNone\u001b[0m\u001b[1;33m:\u001b[0m\u001b[1;33m\u001b[0m\u001b[1;33m\u001b[0m\u001b[0m\n\u001b[1;32m-> 1565\u001b[1;33m             \u001b[1;32mreturn\u001b[0m \u001b[0mfunc\u001b[0m\u001b[1;33m(\u001b[0m\u001b[0max\u001b[0m\u001b[1;33m,\u001b[0m \u001b[1;33m*\u001b[0m\u001b[0mmap\u001b[0m\u001b[1;33m(\u001b[0m\u001b[0msanitize_sequence\u001b[0m\u001b[1;33m,\u001b[0m \u001b[0margs\u001b[0m\u001b[1;33m)\u001b[0m\u001b[1;33m,\u001b[0m \u001b[1;33m**\u001b[0m\u001b[0mkwargs\u001b[0m\u001b[1;33m)\u001b[0m\u001b[1;33m\u001b[0m\u001b[1;33m\u001b[0m\u001b[0m\n\u001b[0m\u001b[0;32m   1566\u001b[0m \u001b[1;33m\u001b[0m\u001b[0m\n\u001b[0;32m   1567\u001b[0m         \u001b[0mbound\u001b[0m \u001b[1;33m=\u001b[0m \u001b[0mnew_sig\u001b[0m\u001b[1;33m.\u001b[0m\u001b[0mbind\u001b[0m\u001b[1;33m(\u001b[0m\u001b[0max\u001b[0m\u001b[1;33m,\u001b[0m \u001b[1;33m*\u001b[0m\u001b[0margs\u001b[0m\u001b[1;33m,\u001b[0m \u001b[1;33m**\u001b[0m\u001b[0mkwargs\u001b[0m\u001b[1;33m)\u001b[0m\u001b[1;33m\u001b[0m\u001b[1;33m\u001b[0m\u001b[0m\n",
      "\u001b[1;32m~\\anaconda3\\lib\\site-packages\\matplotlib\\cbook\\deprecation.py\u001b[0m in \u001b[0;36mwrapper\u001b[1;34m(*args, **kwargs)\u001b[0m\n\u001b[0;32m    356\u001b[0m                 \u001b[1;34mf\"%(removal)s.  If any parameter follows {name!r}, they \"\u001b[0m\u001b[1;33m\u001b[0m\u001b[1;33m\u001b[0m\u001b[0m\n\u001b[0;32m    357\u001b[0m                 f\"should be pass as keyword, not positionally.\")\n\u001b[1;32m--> 358\u001b[1;33m         \u001b[1;32mreturn\u001b[0m \u001b[0mfunc\u001b[0m\u001b[1;33m(\u001b[0m\u001b[1;33m*\u001b[0m\u001b[0margs\u001b[0m\u001b[1;33m,\u001b[0m \u001b[1;33m**\u001b[0m\u001b[0mkwargs\u001b[0m\u001b[1;33m)\u001b[0m\u001b[1;33m\u001b[0m\u001b[1;33m\u001b[0m\u001b[0m\n\u001b[0m\u001b[0;32m    359\u001b[0m \u001b[1;33m\u001b[0m\u001b[0m\n\u001b[0;32m    360\u001b[0m     \u001b[1;32mreturn\u001b[0m \u001b[0mwrapper\u001b[0m\u001b[1;33m\u001b[0m\u001b[1;33m\u001b[0m\u001b[0m\n",
      "\u001b[1;32m~\\anaconda3\\lib\\site-packages\\matplotlib\\axes\\_axes.py\u001b[0m in \u001b[0;36mscatter\u001b[1;34m(self, x, y, s, c, marker, cmap, norm, vmin, vmax, alpha, linewidths, verts, edgecolors, plotnonfinite, **kwargs)\u001b[0m\n\u001b[0;32m   4399\u001b[0m \u001b[1;33m\u001b[0m\u001b[0m\n\u001b[0;32m   4400\u001b[0m         \u001b[0mc\u001b[0m\u001b[1;33m,\u001b[0m \u001b[0mcolors\u001b[0m\u001b[1;33m,\u001b[0m \u001b[0medgecolors\u001b[0m \u001b[1;33m=\u001b[0m\u001b[0;31m \u001b[0m\u001b[0;31m\\\u001b[0m\u001b[1;33m\u001b[0m\u001b[1;33m\u001b[0m\u001b[0m\n\u001b[1;32m-> 4401\u001b[1;33m             self._parse_scatter_color_args(\n\u001b[0m\u001b[0;32m   4402\u001b[0m                 \u001b[0mc\u001b[0m\u001b[1;33m,\u001b[0m \u001b[0medgecolors\u001b[0m\u001b[1;33m,\u001b[0m \u001b[0mkwargs\u001b[0m\u001b[1;33m,\u001b[0m \u001b[0mx\u001b[0m\u001b[1;33m.\u001b[0m\u001b[0msize\u001b[0m\u001b[1;33m,\u001b[0m\u001b[1;33m\u001b[0m\u001b[1;33m\u001b[0m\u001b[0m\n\u001b[0;32m   4403\u001b[0m                 get_next_color_func=self._get_patches_for_fill.get_next_color)\n",
      "\u001b[1;32m~\\anaconda3\\lib\\site-packages\\matplotlib\\axes\\_axes.py\u001b[0m in \u001b[0;36m_parse_scatter_color_args\u001b[1;34m(c, edgecolors, kwargs, xsize, get_next_color_func)\u001b[0m\n\u001b[0;32m   4240\u001b[0m             \u001b[1;32mexcept\u001b[0m \u001b[0mValueError\u001b[0m\u001b[1;33m:\u001b[0m\u001b[1;33m\u001b[0m\u001b[1;33m\u001b[0m\u001b[0m\n\u001b[0;32m   4241\u001b[0m                 \u001b[1;32mif\u001b[0m \u001b[1;32mnot\u001b[0m \u001b[0mvalid_shape\u001b[0m\u001b[1;33m:\u001b[0m\u001b[1;33m\u001b[0m\u001b[1;33m\u001b[0m\u001b[0m\n\u001b[1;32m-> 4242\u001b[1;33m                     \u001b[1;32mraise\u001b[0m \u001b[0minvalid_shape_exception\u001b[0m\u001b[1;33m(\u001b[0m\u001b[0mc\u001b[0m\u001b[1;33m.\u001b[0m\u001b[0msize\u001b[0m\u001b[1;33m,\u001b[0m \u001b[0mxsize\u001b[0m\u001b[1;33m)\u001b[0m\u001b[1;33m\u001b[0m\u001b[1;33m\u001b[0m\u001b[0m\n\u001b[0m\u001b[0;32m   4243\u001b[0m                 \u001b[1;31m# Both the mapping *and* the RGBA conversion failed: pretty\u001b[0m\u001b[1;33m\u001b[0m\u001b[1;33m\u001b[0m\u001b[1;33m\u001b[0m\u001b[0m\n\u001b[0;32m   4244\u001b[0m                 \u001b[1;31m# severe failure => one may appreciate a verbose feedback.\u001b[0m\u001b[1;33m\u001b[0m\u001b[1;33m\u001b[0m\u001b[1;33m\u001b[0m\u001b[0m\n",
      "\u001b[1;31mValueError\u001b[0m: 'c' argument has 50 elements, which is inconsistent with 'x' and 'y' with size 120."
     ]
    },
    {
     "data": {
      "image/png": "[encoded data removed]",
      "text/plain": [
       "<Figure size 432x288 with 1 Axes>"
      ]
     },
     "metadata": {
      "needs_background": "light"
     },
     "output_type": "display_data"
    }
   ],
   "source": [
    "plt.scatter(X[:,0], X[:,1], c=y) "
   ]
  },
  {
   "cell_type": "markdown",
   "metadata": {
    "id": "JjVw5FBR4Q9R"
   },
   "source": [
    "Перемешаем данные\n",
    "\n",
    "----\n",
    "Shuffle the data"
   ]
  },
  {
   "cell_type": "code",
   "execution_count": 74,
   "metadata": {
    "colab": {
     "base_uri": "https://localhost:8080/"
    },
    "executionInfo": {
     "elapsed": 264,
     "status": "ok",
     "timestamp": 1632082012890,
     "user": {
      "displayName": "Rustam Paringer",
      "photoUrl": "https://lh3.googleusercontent.com/a/default-user=s64",
      "userId": "01578219706214200456"
     },
     "user_tz": -240
    },
    "id": "s7S8SoFH3825",
    "outputId": "028567ed-a605-4942-8b4d-2d906151e034"
   },
   "outputs": [
    {
     "name": "stdout",
     "output_type": "stream",
     "text": [
      "[1, 0, 0, 0, 1, 1, 0, 1, 0, 1, 0, 0, 1, 1, 0, 1, 1, 0, 0, 1, 1, 0, 1, 1, 1, 0, 0, 0, 1, 0, 0, 0, 0, 1, 1, 1, 1, 0, 0, 0, 0, 1, 0, 1, 1, 0, 0, 0, 1, 1, 0, 1, 0, 0, 0, 1, 0, 0, 0, 1, 0, 0, 1, 1, 0, 1, 1, 1, 1, 0, 0, 0, 0, 1, 0, 0, 0, 1, 1, 1, 1, 1, 0, 0, 0, 1, 1, 0, 1, 1, 1, 0, 1, 0, 0, 0, 0, 1, 1, 1, 1, 1, 1, 0, 1, 0, 0, 1, 1, 0, 1, 1, 0, 0, 0, 1, 1, 0, 1, 1]\n"
     ]
    }
   ],
   "source": [
    "data, labels = shuffle(X, y)\n",
    "print(labels)"
   ]
  },
  {
   "cell_type": "markdown",
   "metadata": {
    "id": "mlYBjvGn4cxP"
   },
   "source": [
    "Разделим данные на обучающие и тестовые выборки\n",
    "\n",
    "----\n",
    "Split the data into train and test samples"
   ]
  },
  {
   "cell_type": "code",
   "execution_count": 75,
   "metadata": {
    "id": "RSoRryyh4VlH"
   },
   "outputs": [],
   "source": [
    "test_size = int(len(data) * 0.4)\n",
    "Xtrain = data[test_size:]\n",
    "Ytrain = labels[test_size:]\n",
    "Xtest = data[:test_size]\n",
    "Ytest = labels[:test_size]"
   ]
  },
  {
   "cell_type": "markdown",
   "metadata": {
    "id": "ut6e8ptz4sRX"
   },
   "source": [
    "Создадим и обучим классификатор\n",
    "\n",
    "----\n",
    "Create classificator and train it"
   ]
  },
  {
   "cell_type": "code",
   "execution_count": 76,
   "metadata": {
    "colab": {
     "base_uri": "https://localhost:8080/"
    },
    "executionInfo": {
     "elapsed": 303,
     "status": "ok",
     "timestamp": 1632082017637,
     "user": {
      "displayName": "Rustam Paringer",
      "photoUrl": "https://lh3.googleusercontent.com/a/default-user=s64",
      "userId": "01578219706214200456"
     },
     "user_tz": -240
    },
    "id": "ljv6IDqb4oy5",
    "outputId": "c434577d-8fe1-4cdc-8248-38622213b48f"
   },
   "outputs": [
    {
     "data": {
      "text/html": [
       "<style>#sk-container-id-1 {color: black;background-color: white;}#sk-container-id-1 pre{padding: 0;}#sk-container-id-1 div.sk-toggleable {background-color: white;}#sk-container-id-1 label.sk-toggleable__label {cursor: pointer;display: block;width: 100%;margin-bottom: 0;padding: 0.3em;box-sizing: border-box;text-align: center;}#sk-container-id-1 label.sk-toggleable__label-arrow:before {content: \"▸\";float: left;margin-right: 0.25em;color: #696969;}#sk-container-id-1 label.sk-toggleable__label-arrow:hover:before {color: black;}#sk-container-id-1 div.sk-estimator:hover label.sk-toggleable__label-arrow:before {color: black;}#sk-container-id-1 div.sk-toggleable__content {max-height: 0;max-width: 0;overflow: hidden;text-align: left;background-color: #f0f8ff;}#sk-container-id-1 div.sk-toggleable__content pre {margin: 0.2em;color: black;border-radius: 0.25em;background-color: #f0f8ff;}#sk-container-id-1 input.sk-toggleable__control:checked~div.sk-toggleable__content {max-height: 200px;max-width: 100%;overflow: auto;}#sk-container-id-1 input.sk-toggleable__control:checked~label.sk-toggleable__label-arrow:before {content: \"▾\";}#sk-container-id-1 div.sk-estimator input.sk-toggleable__control:checked~label.sk-toggleable__label {background-color: #d4ebff;}#sk-container-id-1 div.sk-label input.sk-toggleable__control:checked~label.sk-toggleable__label {background-color: #d4ebff;}#sk-container-id-1 input.sk-hidden--visually {border: 0;clip: rect(1px 1px 1px 1px);clip: rect(1px, 1px, 1px, 1px);height: 1px;margin: -1px;overflow: hidden;padding: 0;position: absolute;width: 1px;}#sk-container-id-1 div.sk-estimator {font-family: monospace;background-color: #f0f8ff;border: 1px dotted black;border-radius: 0.25em;box-sizing: border-box;margin-bottom: 0.5em;}#sk-container-id-1 div.sk-estimator:hover {background-color: #d4ebff;}#sk-container-id-1 div.sk-parallel-item::after {content: \"\";width: 100%;border-bottom: 1px solid gray;flex-grow: 1;}#sk-container-id-1 div.sk-label:hover label.sk-toggleable__label {background-color: #d4ebff;}#sk-container-id-1 div.sk-serial::before {content: \"\";position: absolute;border-left: 1px solid gray;box-sizing: border-box;top: 0;bottom: 0;left: 50%;z-index: 0;}#sk-container-id-1 div.sk-serial {display: flex;flex-direction: column;align-items: center;background-color: white;padding-right: 0.2em;padding-left: 0.2em;position: relative;}#sk-container-id-1 div.sk-item {position: relative;z-index: 1;}#sk-container-id-1 div.sk-parallel {display: flex;align-items: stretch;justify-content: center;background-color: white;position: relative;}#sk-container-id-1 div.sk-item::before, #sk-container-id-1 div.sk-parallel-item::before {content: \"\";position: absolute;border-left: 1px solid gray;box-sizing: border-box;top: 0;bottom: 0;left: 50%;z-index: -1;}#sk-container-id-1 div.sk-parallel-item {display: flex;flex-direction: column;z-index: 1;position: relative;background-color: white;}#sk-container-id-1 div.sk-parallel-item:first-child::after {align-self: flex-end;width: 50%;}#sk-container-id-1 div.sk-parallel-item:last-child::after {align-self: flex-start;width: 50%;}#sk-container-id-1 div.sk-parallel-item:only-child::after {width: 0;}#sk-container-id-1 div.sk-dashed-wrapped {border: 1px dashed gray;margin: 0 0.4em 0.5em 0.4em;box-sizing: border-box;padding-bottom: 0.4em;background-color: white;}#sk-container-id-1 div.sk-label label {font-family: monospace;font-weight: bold;display: inline-block;line-height: 1.2em;}#sk-container-id-1 div.sk-label-container {text-align: center;}#sk-container-id-1 div.sk-container {/* jupyter's `normalize.less` sets `[hidden] { display: none; }` but bootstrap.min.css set `[hidden] { display: none !important; }` so we also need the `!important` here to be able to override the default hidden behavior on the sphinx rendered scikit-learn.org. See: https://github.com/scikit-learn/scikit-learn/issues/21755 */display: inline-block !important;position: relative;}#sk-container-id-1 div.sk-text-repr-fallback {display: none;}</style><div id=\"sk-container-id-1\" class=\"sk-top-container\"><div class=\"sk-text-repr-fallback\"><pre>LogisticRegression()</pre><b>In a Jupyter environment, please rerun this cell to show the HTML representation or trust the notebook. <br />On GitHub, the HTML representation is unable to render, please try loading this page with nbviewer.org.</b></div><div class=\"sk-container\" hidden><div class=\"sk-item\"><div class=\"sk-estimator sk-toggleable\"><input class=\"sk-toggleable__control sk-hidden--visually\" id=\"sk-estimator-id-1\" type=\"checkbox\" checked><label for=\"sk-estimator-id-1\" class=\"sk-toggleable__label sk-toggleable__label-arrow\">LogisticRegression</label><div class=\"sk-toggleable__content\"><pre>LogisticRegression()</pre></div></div></div></div></div>"
      ],
      "text/plain": [
       "LogisticRegression()"
      ]
     },
     "execution_count": 76,
     "metadata": {},
     "output_type": "execute_result"
    }
   ],
   "source": [
    "clf = LogisticRegression()\n",
    "clf.fit(Xtrain, Ytrain)"
   ]
  },
  {
   "cell_type": "markdown",
   "metadata": {
    "id": "rb-_9TZV5HK0"
   },
   "source": [
    "Оценим классификатор на тестовом наборе данных\n",
    "\n",
    "----\n",
    "Assess the classificator on the test data"
   ]
  },
  {
   "cell_type": "code",
   "execution_count": 77,
   "metadata": {
    "colab": {
     "base_uri": "https://localhost:8080/"
    },
    "executionInfo": {
     "elapsed": 259,
     "status": "ok",
     "timestamp": 1632082022171,
     "user": {
      "displayName": "Rustam Paringer",
      "photoUrl": "https://lh3.googleusercontent.com/a/default-user=s64",
      "userId": "01578219706214200456"
     },
     "user_tz": -240
    },
    "id": "dQRm35vy5EiK",
    "outputId": "8f6c7f2a-8fe6-4ecb-d5c3-0d655a39024b"
   },
   "outputs": [
    {
     "data": {
      "text/plain": [
       "1.0"
      ]
     },
     "execution_count": 77,
     "metadata": {},
     "output_type": "execute_result"
    }
   ],
   "source": [
    "predictions = clf.predict(Xtest)\n",
    "accuracy_score(Ytest, predictions)"
   ]
  },
  {
   "cell_type": "code",
   "execution_count": 81,
   "metadata": {
    "id": "U9t3xKh7q0yJ"
   },
   "outputs": [],
   "source": [
    "# Матрица ошибок\n",
    "C = confusion_matrix(Ytest, predictions)"
   ]
  },
  {
   "cell_type": "code",
   "execution_count": 92,
   "metadata": {
    "colab": {
     "base_uri": "https://localhost:8080/",
     "height": 282
    },
    "executionInfo": {
     "elapsed": 306,
     "status": "ok",
     "timestamp": 1632082209249,
     "user": {
      "displayName": "Rustam Paringer",
      "photoUrl": "https://lh3.googleusercontent.com/a/default-user=s64",
      "userId": "01578219706214200456"
     },
     "user_tz": -240
    },
    "id": "UCKkhKEwrHiq",
    "outputId": "c423f49e-486e-475d-f22b-92d5f301af74"
   },
   "outputs": [
    {
     "data": {
      "text/plain": [
       "<matplotlib.axes._subplots.AxesSubplot at 0x1c06bb52430>"
      ]
     },
     "execution_count": 92,
     "metadata": {},
     "output_type": "execute_result"
    },
    {
     "data": {
      "image/png": "[encoded data removed]",
      "text/plain": [
       "<Figure size 432x288 with 2 Axes>"
      ]
     },
     "metadata": {
      "needs_background": "light"
     },
     "output_type": "display_data"
    }
   ],
   "source": [
    "# Visualize confusion matrix\n",
    "# ---\n",
    "# Визуализация матрицы ошибок\n",
    "import seaborn as sns\n",
    "sns.heatmap(C / C.sum(axis = 1, keepdims = True), annot=True) #обычно матрицу нормализует по "
   ]
  },
  {
   "cell_type": "code",
   "execution_count": null,
   "metadata": {
    "id": "K6RdBdjhoubr"
   },
   "outputs": [],
   "source": []
  }
 ],
 "metadata": {
  "colab": {
   "authorship_tag": "ABX9TyOOstnXeUt36ft3S+mBNQrk",
   "collapsed_sections": [
    "6s11_Bu6ZT9K",
    "cGA8uZ8EaC_d",
    "JmfyKJpIa6tc",
    "SDWSKe5TrFGf",
    "izsUZy-OrMx4",
    "mnkFVY_er3Fg"
   ],
   "name": "Lab_1.ipynb",
   "provenance": [],
   "toc_visible": true
  },
  "kernelspec": {
   "display_name": "Python 3",
   "language": "python",
   "name": "python3"
  },
  "language_info": {
   "codemirror_mode": {
    "name": "ipython",
    "version": 3
   },
   "file_extension": ".py",
   "mimetype": "text/x-python",
   "name": "python",
   "nbconvert_exporter": "python",
   "pygments_lexer": "ipython3",
   "version": "3.8.3"
  }
 },
 "nbformat": 4,
 "nbformat_minor": 1
}
