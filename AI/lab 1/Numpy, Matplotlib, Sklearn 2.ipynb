{
 "cells": [
  {
   "cell_type": "markdown",
   "metadata": {
    "id": "VTCD25CZUOYu"
   },
   "source": [
    "## Введение в библиотеки: numpy, matplotlib, pandas.\n",
    "---\n",
    "## Introduction into packages: numpy, matplotlib, pandas. \n",
    "---\n",
    "Documentation references: \n",
    "*   [numpy](https://numpy.org/doc/stable/)\n",
    "*   [matplotlib](https://matplotlib.org/stable/tutorials/index.html)\n",
    "*   [pandas](https://pandas.pydata.org/docs/user_guide/index.html) \n"
   ]
  },
  {
   "cell_type": "markdown",
   "metadata": {
    "id": "N23qIdhUVpfn"
   },
   "source": [
    "### Numpy \n",
    "\n",
    "* Установка с помощью командной строки: `pip install numpy`\n",
    "* Установка в jupyter notebook: `!pip install numpy`\n",
    "(Префикс `!` указывает, что текущую клетку нужно выполнить в командной строке)\n",
    "\n",
    "В google colaboratory numpy предустановлен\n",
    "\n",
    "---\n",
    "* Install via command line: `pip install numpy`\n",
    "* Install via jupyter notebook: `!pip install numpy`\n",
    "(Prefix `!` indicates that the command should be executed inside terminal))\n",
    "\n",
    "Google colaboratory has preinstalled numpy.\n",
    "\n",
    "Full guide:\n",
    "https://numpy.org/doc/stable/user/absolute_beginners.html\n"
   ]
  },
  {
   "cell_type": "code",
   "execution_count": 1,
   "metadata": {
    "colab": {
     "base_uri": "https://localhost:8080/",
     "height": 35
    },
    "executionInfo": {
     "elapsed": 276,
     "status": "ok",
     "timestamp": 1632081955968,
     "user": {
      "displayName": "Rustam Paringer",
      "photoUrl": "https://lh3.googleusercontent.com/a/default-user=s64",
      "userId": "01578219706214200456"
     },
     "user_tz": -240
    },
    "id": "yx_RMg4iTjiq",
    "outputId": "c4d5ff42-e5bd-4f80-d14b-6f75a69c0e9d"
   },
   "outputs": [
    {
     "data": {
      "text/plain": [
       "'1.19.2'"
      ]
     },
     "execution_count": 1,
     "metadata": {},
     "output_type": "execute_result"
    }
   ],
   "source": [
    "import numpy as np\n",
    "np.__version__"
   ]
  },
  {
   "cell_type": "markdown",
   "metadata": {
    "id": "38mdfZPOYJ-_"
   },
   "source": [
    "#### Инициализация векторов\n",
    "----\n",
    "#### Vector intialization\n",
    "\n",
    "https://numpy.org/doc/stable/user/basics.creation.html"
   ]
  },
  {
   "cell_type": "code",
   "execution_count": 2,
   "metadata": {
    "colab": {
     "base_uri": "https://localhost:8080/"
    },
    "executionInfo": {
     "elapsed": 25,
     "status": "ok",
     "timestamp": 1631626333477,
     "user": {
      "displayName": "Rustam Paringer",
      "photoUrl": "https://lh3.googleusercontent.com/a/default-user=s64",
      "userId": "01578219706214200456"
     },
     "user_tz": -240
    },
    "id": "3m66zO70Vak-",
    "outputId": "449a6dc7-3bfa-456f-bb3a-1860415bf50a"
   },
   "outputs": [
    {
     "data": {
      "text/plain": [
       "array([2, 7, 5])"
      ]
     },
     "execution_count": 2,
     "metadata": {},
     "output_type": "execute_result"
    }
   ],
   "source": [
    "x = np.array([2,7,5])\n",
    "x"
   ]
  },
  {
   "cell_type": "code",
   "execution_count": 102,
   "metadata": {},
   "outputs": [
    {
     "data": {
      "text/plain": [
       "[0, 1, 2, 3]"
      ]
     },
     "execution_count": 102,
     "metadata": {},
     "output_type": "execute_result"
    }
   ],
   "source": [
    "list(range(4))"
   ]
  },
  {
   "cell_type": "code",
   "execution_count": 3,
   "metadata": {
    "colab": {
     "base_uri": "https://localhost:8080/"
    },
    "executionInfo": {
     "elapsed": 20,
     "status": "ok",
     "timestamp": 1631626333478,
     "user": {
      "displayName": "Rustam Paringer",
      "photoUrl": "https://lh3.googleusercontent.com/a/default-user=s64",
      "userId": "01578219706214200456"
     },
     "user_tz": -240
    },
    "id": "Odevz6zZYQaJ",
    "outputId": "07585117-907b-4394-fede-18f0653aa802"
   },
   "outputs": [
    {
     "data": {
      "text/plain": [
       "array([0, 1, 2, 3])"
      ]
     },
     "execution_count": 3,
     "metadata": {},
     "output_type": "execute_result"
    }
   ],
   "source": [
    "y = np.arange(4)\n",
    "y"
   ]
  },
  {
   "cell_type": "code",
   "execution_count": 4,
   "metadata": {
    "colab": {
     "base_uri": "https://localhost:8080/"
    },
    "executionInfo": {
     "elapsed": 19,
     "status": "ok",
     "timestamp": 1631626333479,
     "user": {
      "displayName": "Rustam Paringer",
      "photoUrl": "https://lh3.googleusercontent.com/a/default-user=s64",
      "userId": "01578219706214200456"
     },
     "user_tz": -240
    },
    "id": "U-NJBsEkYSm3",
    "outputId": "3a91b874-3dec-4db2-a142-d30aa60e78a1"
   },
   "outputs": [
    {
     "data": {
      "text/plain": [
       "array([ 4,  5,  6,  7,  8,  9, 10, 11, 12])"
      ]
     },
     "execution_count": 4,
     "metadata": {},
     "output_type": "execute_result"
    }
   ],
   "source": [
    "# (start, stop)\n",
    "y = np.arange(4, 13)\n",
    "y"
   ]
  },
  {
   "cell_type": "code",
   "execution_count": 5,
   "metadata": {
    "colab": {
     "base_uri": "https://localhost:8080/"
    },
    "executionInfo": {
     "elapsed": 18,
     "status": "ok",
     "timestamp": 1631626333479,
     "user": {
      "displayName": "Rustam Paringer",
      "photoUrl": "https://lh3.googleusercontent.com/a/default-user=s64",
      "userId": "01578219706214200456"
     },
     "user_tz": -240
    },
    "id": "_jDq_HRpYTe1",
    "outputId": "0d4b1039-b6c4-4e4a-ab03-70f471bb687e"
   },
   "outputs": [
    {
     "data": {
      "text/plain": [
       "array([ 4,  7, 10])"
      ]
     },
     "execution_count": 5,
     "metadata": {},
     "output_type": "execute_result"
    }
   ],
   "source": [
    "# (start, stop, step)\n",
    "y = np.arange(4, 13, 3)\n",
    "y"
   ]
  },
  {
   "cell_type": "code",
   "execution_count": 6,
   "metadata": {
    "colab": {
     "base_uri": "https://localhost:8080/"
    },
    "executionInfo": {
     "elapsed": 17,
     "status": "ok",
     "timestamp": 1631626333480,
     "user": {
      "displayName": "Rustam Paringer",
      "photoUrl": "https://lh3.googleusercontent.com/a/default-user=s64",
      "userId": "01578219706214200456"
     },
     "user_tz": -240
    },
    "id": "az7R8lKzYVrl",
    "outputId": "e631325f-33fd-409e-c6f8-fb0fbee6dc48"
   },
   "outputs": [
    {
     "data": {
      "text/plain": [
       "array([1., 1., 1., 1., 1., 1., 1., 1., 1., 1.])"
      ]
     },
     "execution_count": 6,
     "metadata": {},
     "output_type": "execute_result"
    }
   ],
   "source": [
    "y = np.ones((10, ))\n",
    "y"
   ]
  },
  {
   "cell_type": "code",
   "execution_count": 7,
   "metadata": {
    "colab": {
     "base_uri": "https://localhost:8080/"
    },
    "executionInfo": {
     "elapsed": 17,
     "status": "ok",
     "timestamp": 1631626333481,
     "user": {
      "displayName": "Rustam Paringer",
      "photoUrl": "https://lh3.googleusercontent.com/a/default-user=s64",
      "userId": "01578219706214200456"
     },
     "user_tz": -240
    },
    "id": "dcQwp0yBYYVz",
    "outputId": "21f3c60c-9619-48c9-9135-4a64b9b5e636"
   },
   "outputs": [
    {
     "data": {
      "text/plain": [
       "array([0., 0., 0., 0., 0., 0., 0., 0., 0., 0.])"
      ]
     },
     "execution_count": 7,
     "metadata": {},
     "output_type": "execute_result"
    }
   ],
   "source": [
    "y = np.zeros((10, ))\n",
    "y"
   ]
  },
  {
   "cell_type": "code",
   "execution_count": 8,
   "metadata": {
    "colab": {
     "base_uri": "https://localhost:8080/"
    },
    "executionInfo": {
     "elapsed": 16,
     "status": "ok",
     "timestamp": 1631626333481,
     "user": {
      "displayName": "Rustam Paringer",
      "photoUrl": "https://lh3.googleusercontent.com/a/default-user=s64",
      "userId": "01578219706214200456"
     },
     "user_tz": -240
    },
    "id": "m6DaLF54Ywb4",
    "outputId": "1565fa4d-399d-4177-966f-59545a003ff8"
   },
   "outputs": [
    {
     "data": {
      "text/plain": [
       "array([13, 10,  7])"
      ]
     },
     "execution_count": 8,
     "metadata": {},
     "output_type": "execute_result"
    }
   ],
   "source": [
    "y = np.arange(13, 4, -3)\n",
    "y"
   ]
  },
  {
   "cell_type": "markdown",
   "metadata": {
    "id": "n4yiagvKYdfH"
   },
   "source": [
    "#### Операции над векторами\n",
    "----\n",
    "#### Vector operations"
   ]
  },
  {
   "cell_type": "code",
   "execution_count": 105,
   "metadata": {},
   "outputs": [],
   "source": [
    "x = np.array([1, 2, 3])\n",
    "y = np.array([1, 2, 3])"
   ]
  },
  {
   "cell_type": "code",
   "execution_count": 106,
   "metadata": {
    "colab": {
     "base_uri": "https://localhost:8080/"
    },
    "executionInfo": {
     "elapsed": 15,
     "status": "ok",
     "timestamp": 1631626333482,
     "user": {
      "displayName": "Rustam Paringer",
      "photoUrl": "https://lh3.googleusercontent.com/a/default-user=s64",
      "userId": "01578219706214200456"
     },
     "user_tz": -240
    },
    "id": "kjTlxgyBYadP",
    "outputId": "d2a67816-2377-42a7-c146-a38e43fb97e6"
   },
   "outputs": [
    {
     "data": {
      "text/plain": [
       "array([1, 4, 9])"
      ]
     },
     "execution_count": 106,
     "metadata": {},
     "output_type": "execute_result"
    }
   ],
   "source": [
    "x * y"
   ]
  },
  {
   "cell_type": "code",
   "execution_count": 10,
   "metadata": {
    "colab": {
     "base_uri": "https://localhost:8080/"
    },
    "executionInfo": {
     "elapsed": 21,
     "status": "ok",
     "timestamp": 1631626333776,
     "user": {
      "displayName": "Rustam Paringer",
      "photoUrl": "https://lh3.googleusercontent.com/a/default-user=s64",
      "userId": "01578219706214200456"
     },
     "user_tz": -240
    },
    "id": "yhnAJkcjYuVY",
    "outputId": "30e4b0b5-6f1a-48fa-9b9a-8d5ff6ec240e"
   },
   "outputs": [
    {
     "data": {
      "text/plain": [
       "array([15, 17, 12])"
      ]
     },
     "execution_count": 10,
     "metadata": {},
     "output_type": "execute_result"
    }
   ],
   "source": [
    "x + y"
   ]
  },
  {
   "cell_type": "code",
   "execution_count": 11,
   "metadata": {
    "colab": {
     "base_uri": "https://localhost:8080/"
    },
    "executionInfo": {
     "elapsed": 17,
     "status": "ok",
     "timestamp": 1631626333777,
     "user": {
      "displayName": "Rustam Paringer",
      "photoUrl": "https://lh3.googleusercontent.com/a/default-user=s64",
      "userId": "01578219706214200456"
     },
     "user_tz": -240
    },
    "id": "JYGudEuZY56V",
    "outputId": "4a2a71f3-d020-49e5-b38b-8e30bd34fd1f"
   },
   "outputs": [
    {
     "data": {
      "text/plain": [
       "array([0.15384615, 0.7       , 0.71428571])"
      ]
     },
     "execution_count": 11,
     "metadata": {},
     "output_type": "execute_result"
    }
   ],
   "source": [
    "x / y"
   ]
  },
  {
   "cell_type": "code",
   "execution_count": 12,
   "metadata": {
    "colab": {
     "base_uri": "https://localhost:8080/"
    },
    "executionInfo": {
     "elapsed": 16,
     "status": "ok",
     "timestamp": 1631626333777,
     "user": {
      "displayName": "Rustam Paringer",
      "photoUrl": "https://lh3.googleusercontent.com/a/default-user=s64",
      "userId": "01578219706214200456"
     },
     "user_tz": -240
    },
    "id": "vsy69cNXY8YN",
    "outputId": "f6b73d56-5e69-416f-c44c-cceeff27b088"
   },
   "outputs": [
    {
     "data": {
      "text/plain": [
       "array([     8192, 282475249,     78125], dtype=int32)"
      ]
     },
     "execution_count": 12,
     "metadata": {},
     "output_type": "execute_result"
    }
   ],
   "source": [
    "x ** y"
   ]
  },
  {
   "cell_type": "code",
   "execution_count": 109,
   "metadata": {},
   "outputs": [
    {
     "data": {
      "text/plain": [
       "14"
      ]
     },
     "execution_count": 109,
     "metadata": {},
     "output_type": "execute_result"
    }
   ],
   "source": [
    "(x * y).sum()"
   ]
  },
  {
   "cell_type": "markdown",
   "metadata": {
    "id": "ATpZadLIZHdS"
   },
   "source": [
    "Скалярное произведение\n",
    "\n",
    "----\n",
    "Dot product"
   ]
  },
  {
   "cell_type": "code",
   "execution_count": 108,
   "metadata": {
    "colab": {
     "base_uri": "https://localhost:8080/"
    },
    "executionInfo": {
     "elapsed": 15,
     "status": "ok",
     "timestamp": 1631626333778,
     "user": {
      "displayName": "Rustam Paringer",
      "photoUrl": "https://lh3.googleusercontent.com/a/default-user=s64",
      "userId": "01578219706214200456"
     },
     "user_tz": -240
    },
    "id": "5LRPax-MY8u0",
    "outputId": "c05a4f7c-c4b8-4c85-9b9f-16bf793f9a52"
   },
   "outputs": [
    {
     "data": {
      "text/plain": [
       "(14, 14, 14)"
      ]
     },
     "execution_count": 108,
     "metadata": {},
     "output_type": "execute_result"
    }
   ],
   "source": [
    "x @ y, x.dot(y), np.dot(x, y) "
   ]
  },
  {
   "cell_type": "markdown",
   "metadata": {
    "id": "6s11_Bu6ZT9K"
   },
   "source": [
    "#### Обращение к элементам вектора\n",
    "\n",
    "----\n",
    "#### Vector's indexing\n",
    "\n",
    "https://numpy.org/doc/stable/user/basics.indexing.html"
   ]
  },
  {
   "cell_type": "code",
   "execution_count": 111,
   "metadata": {
    "colab": {
     "base_uri": "https://localhost:8080/"
    },
    "executionInfo": {
     "elapsed": 14,
     "status": "ok",
     "timestamp": 1631626333778,
     "user": {
      "displayName": "Rustam Paringer",
      "photoUrl": "https://lh3.googleusercontent.com/a/default-user=s64",
      "userId": "01578219706214200456"
     },
     "user_tz": -240
    },
    "id": "SwKsjF80Z3QA",
    "outputId": "2408d199-77a0-4cf3-eb4b-b0b13e59fd65"
   },
   "outputs": [
    {
     "data": {
      "text/plain": [
       "array([1, 2, 3])"
      ]
     },
     "execution_count": 111,
     "metadata": {},
     "output_type": "execute_result"
    }
   ],
   "source": [
    "x"
   ]
  },
  {
   "cell_type": "code",
   "execution_count": 114,
   "metadata": {
    "colab": {
     "base_uri": "https://localhost:8080/"
    },
    "executionInfo": {
     "elapsed": 12,
     "status": "ok",
     "timestamp": 1631626333778,
     "user": {
      "displayName": "Rustam Paringer",
      "photoUrl": "https://lh3.googleusercontent.com/a/default-user=s64",
      "userId": "01578219706214200456"
     },
     "user_tz": -240
    },
    "id": "-9wtp_OWY_d-",
    "outputId": "6a5476c9-8062-4672-b880-2311189c282e"
   },
   "outputs": [
    {
     "data": {
      "text/plain": [
       "3"
      ]
     },
     "execution_count": 114,
     "metadata": {},
     "output_type": "execute_result"
    }
   ],
   "source": [
    "x[2]"
   ]
  },
  {
   "cell_type": "code",
   "execution_count": 117,
   "metadata": {
    "colab": {
     "base_uri": "https://localhost:8080/"
    },
    "executionInfo": {
     "elapsed": 12,
     "status": "ok",
     "timestamp": 1631626333779,
     "user": {
      "displayName": "Rustam Paringer",
      "photoUrl": "https://lh3.googleusercontent.com/a/default-user=s64",
      "userId": "01578219706214200456"
     },
     "user_tz": -240
    },
    "id": "NpvZqTNpZh0y",
    "outputId": "a96eb1a6-cd28-4d60-bd68-50c0f1a6d83f"
   },
   "outputs": [
    {
     "data": {
      "text/plain": [
       "array([2])"
      ]
     },
     "execution_count": 117,
     "metadata": {},
     "output_type": "execute_result"
    }
   ],
   "source": [
    "# (start, stop)\n",
    "x[1:2]"
   ]
  },
  {
   "cell_type": "code",
   "execution_count": 119,
   "metadata": {
    "colab": {
     "base_uri": "https://localhost:8080/"
    },
    "executionInfo": {
     "elapsed": 12,
     "status": "ok",
     "timestamp": 1631626333779,
     "user": {
      "displayName": "Rustam Paringer",
      "photoUrl": "https://lh3.googleusercontent.com/a/default-user=s64",
      "userId": "01578219706214200456"
     },
     "user_tz": -240
    },
    "id": "Ap5IyXrLZzyO",
    "outputId": "13d0c120-60d3-4179-8527-ea444b27e1be"
   },
   "outputs": [
    {
     "data": {
      "text/plain": [
       "2"
      ]
     },
     "execution_count": 119,
     "metadata": {},
     "output_type": "execute_result"
    }
   ],
   "source": [
    "x[-2]"
   ]
  },
  {
   "cell_type": "code",
   "execution_count": 120,
   "metadata": {
    "colab": {
     "base_uri": "https://localhost:8080/"
    },
    "executionInfo": {
     "elapsed": 11,
     "status": "ok",
     "timestamp": 1631626333780,
     "user": {
      "displayName": "Rustam Paringer",
      "photoUrl": "https://lh3.googleusercontent.com/a/default-user=s64",
      "userId": "01578219706214200456"
     },
     "user_tz": -240
    },
    "id": "u_P9rvi7Z2Y5",
    "outputId": "20e71235-5bc9-4b34-a321-45161ec1396d"
   },
   "outputs": [
    {
     "data": {
      "text/plain": [
       "array([1, 3])"
      ]
     },
     "execution_count": 120,
     "metadata": {},
     "output_type": "execute_result"
    }
   ],
   "source": [
    "mask = [0, 2]\n",
    "x[mask]"
   ]
  },
  {
   "cell_type": "code",
   "execution_count": 123,
   "metadata": {},
   "outputs": [
    {
     "data": {
      "text/plain": [
       "array([1, 2, 3])"
      ]
     },
     "execution_count": 123,
     "metadata": {},
     "output_type": "execute_result"
    }
   ],
   "source": [
    "x[[0, 1, 2]]"
   ]
  },
  {
   "cell_type": "markdown",
   "metadata": {
    "id": "cGA8uZ8EaC_d"
   },
   "source": [
    "#### Матрицы\n",
    "\n",
    "---- \n",
    "\n",
    "#### Matrices"
   ]
  },
  {
   "cell_type": "code",
   "execution_count": 19,
   "metadata": {
    "colab": {
     "base_uri": "https://localhost:8080/"
    },
    "executionInfo": {
     "elapsed": 10,
     "status": "ok",
     "timestamp": 1631626333780,
     "user": {
      "displayName": "Rustam Paringer",
      "photoUrl": "https://lh3.googleusercontent.com/a/default-user=s64",
      "userId": "01578219706214200456"
     },
     "user_tz": -240
    },
    "id": "j-Uj9MQNZ9pn",
    "outputId": "fa37bf8c-ab36-404b-9dd6-d4670bc47b6b"
   },
   "outputs": [
    {
     "name": "stdout",
     "output_type": "stream",
     "text": [
      "Shape (3, 3)\n"
     ]
    },
    {
     "data": {
      "text/plain": [
       "array([[1, 2, 3],\n",
       "       [4, 5, 6],\n",
       "       [7, 8, 9]])"
      ]
     },
     "execution_count": 19,
     "metadata": {},
     "output_type": "execute_result"
    }
   ],
   "source": [
    "z = np.array([\n",
    "    [1, 2, 3],\n",
    "    [4, 5, 6],\n",
    "    [7, 8, 9]\n",
    "])\n",
    "print(\"Shape\", z.shape)\n",
    "z"
   ]
  },
  {
   "cell_type": "code",
   "execution_count": 20,
   "metadata": {
    "colab": {
     "base_uri": "https://localhost:8080/"
    },
    "executionInfo": {
     "elapsed": 22,
     "status": "ok",
     "timestamp": 1631626334055,
     "user": {
      "displayName": "Rustam Paringer",
      "photoUrl": "https://lh3.googleusercontent.com/a/default-user=s64",
      "userId": "01578219706214200456"
     },
     "user_tz": -240
    },
    "id": "PUtPcLrZwdUP",
    "outputId": "4ba76740-2f52-43ef-f41d-e93819b9063b"
   },
   "outputs": [
    {
     "data": {
      "text/plain": [
       "array([[0., 0., 0.],\n",
       "       [0., 0., 0.],\n",
       "       [0., 0., 0.]])"
      ]
     },
     "execution_count": 20,
     "metadata": {},
     "output_type": "execute_result"
    }
   ],
   "source": [
    "np.zeros((3, 3))"
   ]
  },
  {
   "cell_type": "code",
   "execution_count": 21,
   "metadata": {
    "colab": {
     "base_uri": "https://localhost:8080/"
    },
    "executionInfo": {
     "elapsed": 17,
     "status": "ok",
     "timestamp": 1631626334056,
     "user": {
      "displayName": "Rustam Paringer",
      "photoUrl": "https://lh3.googleusercontent.com/a/default-user=s64",
      "userId": "01578219706214200456"
     },
     "user_tz": -240
    },
    "id": "fo9_64LBwgf7",
    "outputId": "aa5aa5fc-4eea-4ec9-e940-8580eb5c6f00"
   },
   "outputs": [
    {
     "data": {
      "text/plain": [
       "array([[1., 1., 1.],\n",
       "       [1., 1., 1.],\n",
       "       [1., 1., 1.]])"
      ]
     },
     "execution_count": 21,
     "metadata": {},
     "output_type": "execute_result"
    }
   ],
   "source": [
    "np.ones((3, 3))"
   ]
  },
  {
   "cell_type": "code",
   "execution_count": 22,
   "metadata": {
    "colab": {
     "base_uri": "https://localhost:8080/"
    },
    "executionInfo": {
     "elapsed": 16,
     "status": "ok",
     "timestamp": 1631626334056,
     "user": {
      "displayName": "Rustam Paringer",
      "photoUrl": "https://lh3.googleusercontent.com/a/default-user=s64",
      "userId": "01578219706214200456"
     },
     "user_tz": -240
    },
    "id": "W-_hwMvNwjCB",
    "outputId": "e5a5c1d5-30fe-4030-f6b9-1ee2a7f13130"
   },
   "outputs": [
    {
     "data": {
      "text/plain": [
       "array([[1., 0., 0.],\n",
       "       [0., 1., 0.],\n",
       "       [0., 0., 1.]])"
      ]
     },
     "execution_count": 22,
     "metadata": {},
     "output_type": "execute_result"
    }
   ],
   "source": [
    "np.eye(3, 3)"
   ]
  },
  {
   "cell_type": "code",
   "execution_count": 23,
   "metadata": {
    "colab": {
     "base_uri": "https://localhost:8080/"
    },
    "executionInfo": {
     "elapsed": 16,
     "status": "ok",
     "timestamp": 1631626334057,
     "user": {
      "displayName": "Rustam Paringer",
      "photoUrl": "https://lh3.googleusercontent.com/a/default-user=s64",
      "userId": "01578219706214200456"
     },
     "user_tz": -240
    },
    "id": "g0eXiBzUaIRq",
    "outputId": "2c0afd1e-a0d6-4c8b-de75-adde94403770"
   },
   "outputs": [
    {
     "data": {
      "text/plain": [
       "array([1, 2, 3, 4, 5, 6, 7, 8, 9])"
      ]
     },
     "execution_count": 23,
     "metadata": {},
     "output_type": "execute_result"
    }
   ],
   "source": [
    "z = np.arange(1, 10, 1)\n",
    "z"
   ]
  },
  {
   "cell_type": "code",
   "execution_count": 24,
   "metadata": {
    "colab": {
     "base_uri": "https://localhost:8080/"
    },
    "executionInfo": {
     "elapsed": 16,
     "status": "ok",
     "timestamp": 1631626334058,
     "user": {
      "displayName": "Rustam Paringer",
      "photoUrl": "https://lh3.googleusercontent.com/a/default-user=s64",
      "userId": "01578219706214200456"
     },
     "user_tz": -240
    },
    "id": "3YJUrk-saUYV",
    "outputId": "74559728-d069-4607-a95d-a021674477b0"
   },
   "outputs": [
    {
     "data": {
      "text/plain": [
       "array([[1, 2, 3],\n",
       "       [4, 5, 6],\n",
       "       [7, 8, 9]])"
      ]
     },
     "execution_count": 24,
     "metadata": {},
     "output_type": "execute_result"
    }
   ],
   "source": [
    "z = z.reshape((3, 3))\n",
    "z"
   ]
  },
  {
   "cell_type": "code",
   "execution_count": 131,
   "metadata": {
    "colab": {
     "base_uri": "https://localhost:8080/"
    },
    "executionInfo": {
     "elapsed": 17,
     "status": "ok",
     "timestamp": 1631626334059,
     "user": {
      "displayName": "Rustam Paringer",
      "photoUrl": "https://lh3.googleusercontent.com/a/default-user=s64",
      "userId": "01578219706214200456"
     },
     "user_tz": -240
    },
    "id": "BxkTpY66agr_",
    "outputId": "a286daf8-b598-4813-e61f-d340744bcc37"
   },
   "outputs": [
    {
     "data": {
      "text/plain": [
       "array([[2, 3],\n",
       "       [5, 6],\n",
       "       [8, 9]])"
      ]
     },
     "execution_count": 131,
     "metadata": {},
     "output_type": "execute_result"
    }
   ],
   "source": [
    "z[:, 1:3]"
   ]
  },
  {
   "cell_type": "code",
   "execution_count": 26,
   "metadata": {
    "colab": {
     "base_uri": "https://localhost:8080/"
    },
    "executionInfo": {
     "elapsed": 16,
     "status": "ok",
     "timestamp": 1631626334059,
     "user": {
      "displayName": "Rustam Paringer",
      "photoUrl": "https://lh3.googleusercontent.com/a/default-user=s64",
      "userId": "01578219706214200456"
     },
     "user_tz": -240
    },
    "id": "vJ5BhpVyaslm",
    "outputId": "a090ae60-6e98-4d33-9052-9fec49965351"
   },
   "outputs": [
    {
     "data": {
      "text/plain": [
       "array([[2, 3],\n",
       "       [5, 6],\n",
       "       [8, 9]])"
      ]
     },
     "execution_count": 26,
     "metadata": {},
     "output_type": "execute_result"
    }
   ],
   "source": [
    "z[:, 1:3]"
   ]
  },
  {
   "cell_type": "code",
   "execution_count": 27,
   "metadata": {
    "colab": {
     "base_uri": "https://localhost:8080/"
    },
    "executionInfo": {
     "elapsed": 16,
     "status": "ok",
     "timestamp": 1631626334060,
     "user": {
      "displayName": "Rustam Paringer",
      "photoUrl": "https://lh3.googleusercontent.com/a/default-user=s64",
      "userId": "01578219706214200456"
     },
     "user_tz": -240
    },
    "id": "igweSkQ0a0H_",
    "outputId": "791b191b-b135-45bd-bba8-3c59adaa8141"
   },
   "outputs": [
    {
     "data": {
      "text/plain": [
       "array([[2, 3],\n",
       "       [5, 6],\n",
       "       [8, 9]])"
      ]
     },
     "execution_count": 27,
     "metadata": {},
     "output_type": "execute_result"
    }
   ],
   "source": [
    "z[..., 1:3]"
   ]
  },
  {
   "cell_type": "markdown",
   "metadata": {
    "id": "JmfyKJpIa6tc"
   },
   "source": [
    "#### Генерация данных с заданным распределением\n",
    "----\n",
    "#### Random data generation with desired distribution\n",
    "\n",
    "https://numpy.org/doc/stable/reference/random/index.html"
   ]
  },
  {
   "cell_type": "markdown",
   "metadata": {
    "id": "Sm4WeDTtbKMb"
   },
   "source": [
    "Равномерное распределение\n",
    "\n",
    "----\n",
    "\n",
    "Uniform distribution"
   ]
  },
  {
   "cell_type": "code",
   "execution_count": 133,
   "metadata": {
    "colab": {
     "base_uri": "https://localhost:8080/"
    },
    "executionInfo": {
     "elapsed": 15,
     "status": "ok",
     "timestamp": 1631626334060,
     "user": {
      "displayName": "Rustam Paringer",
      "photoUrl": "https://lh3.googleusercontent.com/a/default-user=s64",
      "userId": "01578219706214200456"
     },
     "user_tz": -240
    },
    "id": "cvflf_2ua2Go",
    "outputId": "bfb9a159-bf10-4c44-887f-27391526ab27"
   },
   "outputs": [
    {
     "data": {
      "text/plain": [
       "array([0.68963332, 0.92956851, 0.57937845, 0.11107731, 0.34970119,\n",
       "       0.1634601 , 0.05563761, 0.78632538, 0.03259592, 0.72828602,\n",
       "       0.60705273, 0.53937446, 0.3572043 , 0.23404236, 0.18033436,\n",
       "       0.58633373, 0.35365839, 0.76682825, 0.49713639, 0.940509  ,\n",
       "       0.37104068, 0.26608582, 0.40389924, 0.4532934 , 0.81102437,\n",
       "       0.22965847, 0.28767873, 0.82204434, 0.93807115, 0.75051891,\n",
       "       0.48888194, 0.57619398, 0.77321177, 0.58133767, 0.49782374,\n",
       "       0.64278879, 0.51888343, 0.61162402, 0.9775437 , 0.06864771,\n",
       "       0.6985376 , 0.21815077, 0.00241059, 0.06721035, 0.96824278,\n",
       "       0.85321869, 0.38550084, 0.54536526, 0.23974238, 0.17037712])"
      ]
     },
     "execution_count": 133,
     "metadata": {},
     "output_type": "execute_result"
    }
   ],
   "source": [
    "x = np.random.uniform(0.0, 1.0, 50) # (left border, right border, number of samples)\n",
    "x"
   ]
  },
  {
   "cell_type": "markdown",
   "metadata": {
    "id": "CsNO_y_ebM1M"
   },
   "source": [
    "Нормальное распределение\n",
    "\n",
    "----\n",
    "\n",
    "Gaussian distribution"
   ]
  },
  {
   "cell_type": "code",
   "execution_count": 134,
   "metadata": {
    "colab": {
     "base_uri": "https://localhost:8080/"
    },
    "executionInfo": {
     "elapsed": 15,
     "status": "ok",
     "timestamp": 1631626334061,
     "user": {
      "displayName": "Rustam Paringer",
      "photoUrl": "https://lh3.googleusercontent.com/a/default-user=s64",
      "userId": "01578219706214200456"
     },
     "user_tz": -240
    },
    "id": "Zr2GvkOdbIqj",
    "outputId": "8625150f-79bb-4fe6-e235-4b4e5dbe8c3a"
   },
   "outputs": [
    {
     "data": {
      "text/plain": [
       "array([ 3.60632618e-01,  2.41428396e+00,  7.56623032e-01, -3.28072648e-01,\n",
       "       -1.40750221e+00,  1.53128851e+00,  4.71066503e-02,  3.07735519e-01,\n",
       "        9.92650993e-01, -3.42018030e-01, -4.78631472e-02, -6.22475755e-01,\n",
       "       -1.40468889e-01, -2.67099154e-02,  6.27586255e-01,  2.48312395e+00,\n",
       "        5.82842371e-01, -5.83431161e-01,  5.03391529e-01, -2.97002103e-01,\n",
       "       -3.30201635e-01, -1.27198474e+00, -9.69385652e-01,  1.77536700e+00,\n",
       "       -4.33312141e-01,  8.61054059e-01, -5.59761954e-01, -6.59649765e-04,\n",
       "       -2.22302896e-01,  3.92516488e-01,  6.04704126e-01, -3.93620183e-01,\n",
       "        1.95196127e+00, -1.47086347e+00, -5.68232561e-01, -1.18371842e+00,\n",
       "        2.21149454e-01, -4.22073547e-01, -4.88602380e-01, -1.50507161e-01,\n",
       "       -1.37336338e+00, -1.60537242e-01,  4.23853630e-01,  9.55513739e-01,\n",
       "       -1.02236035e+00, -1.02366390e+00, -1.26787401e+00, -3.29917057e-01,\n",
       "       -9.67372343e-02, -6.40517709e-01])"
      ]
     },
     "execution_count": 134,
     "metadata": {},
     "output_type": "execute_result"
    }
   ],
   "source": [
    "24\n",
    "y = np.random.normal(0.0, 1.0, 50) # (mean, std, number of samples)\n",
    "y"
   ]
  },
  {
   "cell_type": "markdown",
   "metadata": {
    "id": "3IoNo5qPqcCh"
   },
   "source": [
    "### Matplotlib \n",
    "\n",
    "* Установка с помощью командной строки: `pip install matplotlib`\n",
    "* Установка в jupyter notebook: `!pip install matplotlib`\n",
    "(Префикс `!` указывает, что текущую клетку нужно выполнить в командной строке)\n",
    "\n",
    "В google colaboratory matplotlib предустановлен\n",
    "\n",
    "---\n",
    "* Install via command line: `pip install matplotlib`\n",
    "* Install via jupyter notebook: `!pip install matplotlib`\n",
    "(Prefix `!` indicates that the command should be executed inside terminal))\n",
    "\n",
    "Google colaboratory has preinstalled matplotlib.\n",
    "\n",
    "Official tutorials:\n",
    "https://matplotlib.org/stable/tutorials/index.html\n"
   ]
  },
  {
   "cell_type": "code",
   "execution_count": 30,
   "metadata": {
    "colab": {
     "base_uri": "https://localhost:8080/",
     "height": 35
    },
    "executionInfo": {
     "elapsed": 272,
     "status": "ok",
     "timestamp": 1632081961356,
     "user": {
      "displayName": "Rustam Paringer",
      "photoUrl": "https://lh3.googleusercontent.com/a/default-user=s64",
      "userId": "01578219706214200456"
     },
     "user_tz": -240
    },
    "id": "naE7oJsMbZZn",
    "outputId": "d0927b57-9736-44fb-ae61-7bda3d08696f"
   },
   "outputs": [
    {
     "data": {
      "text/plain": [
       "'3.3.2'"
      ]
     },
     "execution_count": 30,
     "metadata": {},
     "output_type": "execute_result"
    }
   ],
   "source": [
    "import matplotlib.pyplot as plt\n",
    "import matplotlib\n",
    "matplotlib.__version__"
   ]
  },
  {
   "cell_type": "markdown",
   "metadata": {
    "id": "SDWSKe5TrFGf"
   },
   "source": [
    "#### Визуализация точек\n",
    "----\n",
    "#### Points visualization"
   ]
  },
  {
   "cell_type": "code",
   "execution_count": 135,
   "metadata": {
    "colab": {
     "base_uri": "https://localhost:8080/"
    },
    "executionInfo": {
     "elapsed": 285,
     "status": "ok",
     "timestamp": 1631626334333,
     "user": {
      "displayName": "Rustam Paringer",
      "photoUrl": "https://lh3.googleusercontent.com/a/default-user=s64",
      "userId": "01578219706214200456"
     },
     "user_tz": -240
    },
    "id": "JLo69hLzqyF9",
    "outputId": "66066991-9566-4483-d243-e4a229d5c562"
   },
   "outputs": [
    {
     "data": {
      "text/plain": [
       "<matplotlib.collections.PathCollection at 0x16bd73a3460>"
      ]
     },
     "execution_count": 135,
     "metadata": {},
     "output_type": "execute_result"
    },
    {
     "data": {
      "image/png": "[encoded data removed]",
      "text/plain": [
       "<Figure size 432x288 with 1 Axes>"
      ]
     },
     "metadata": {
      "needs_background": "light"
     },
     "output_type": "display_data"
    }
   ],
   "source": [
    "plt.scatter(x, y)"
   ]
  },
  {
   "cell_type": "markdown",
   "metadata": {
    "id": "izsUZy-OrMx4"
   },
   "source": [
    "#### Базовая кастомизация графиков (именование осей, цвет точек)\n",
    "----\n",
    "#### Basic charts customization (axis labeling, points coloring)"
   ]
  },
  {
   "cell_type": "code",
   "execution_count": 136,
   "metadata": {
    "colab": {
     "base_uri": "https://localhost:8080/"
    },
    "executionInfo": {
     "elapsed": 8,
     "status": "ok",
     "timestamp": 1631626334806,
     "user": {
      "displayName": "Rustam Paringer",
      "photoUrl": "https://lh3.googleusercontent.com/a/default-user=s64",
      "userId": "01578219706214200456"
     },
     "user_tz": -240
    },
    "id": "fykVvTEAq8RR",
    "outputId": "8ba5c01b-1233-47fe-bd21-b9aafd8d40a0"
   },
   "outputs": [
    {
     "data": {
      "text/plain": [
       "<matplotlib.collections.PathCollection at 0x16bd8552dc0>"
      ]
     },
     "execution_count": 136,
     "metadata": {},
     "output_type": "execute_result"
    },
    {
     "data": {
      "image/png": "[encoded data removed]",
      "text/plain": [
       "<Figure size 432x288 with 1 Axes>"
      ]
     },
     "metadata": {
      "needs_background": "light"
     },
     "output_type": "display_data"
    }
   ],
   "source": [
    "plt.xlabel(\"Random Uniform\")\n",
    "plt.ylabel(\"Random Normal\")\n",
    "plt.title(\"Chart\")\n",
    "plt.scatter(x, y, marker='o', color='red')"
   ]
  },
  {
   "cell_type": "code",
   "execution_count": 137,
   "metadata": {
    "colab": {
     "base_uri": "https://localhost:8080/"
    },
    "executionInfo": {
     "elapsed": 305,
     "status": "ok",
     "timestamp": 1631626335106,
     "user": {
      "displayName": "Rustam Paringer",
      "photoUrl": "https://lh3.googleusercontent.com/a/default-user=s64",
      "userId": "01578219706214200456"
     },
     "user_tz": -240
    },
    "id": "msi8SAhwrvKa",
    "outputId": "fdb57b53-144b-4d28-9a26-d5444936bd2e"
   },
   "outputs": [
    {
     "data": {
      "text/plain": [
       "<matplotlib.collections.PathCollection at 0x16bd5dda700>"
      ]
     },
     "execution_count": 137,
     "metadata": {},
     "output_type": "execute_result"
    },
    {
     "data": {
      "image/png": "[encoded data removed]",
      "text/plain": [
       "<Figure size 432x288 with 1 Axes>"
      ]
     },
     "metadata": {
      "needs_background": "light"
     },
     "output_type": "display_data"
    }
   ],
   "source": [
    "plt.xlabel(\"Равномерное распределение\")\n",
    "plt.ylabel(\"Нормальное распределение\")\n",
    "plt.title(\"График\")\n",
    "plt.grid()\n",
    "plt.scatter(x, y, marker='D', color='gray')  # Настройки отображения графика"
   ]
  },
  {
   "cell_type": "markdown",
   "metadata": {
    "id": "mnkFVY_er3Fg"
   },
   "source": [
    "#### График гистограммы + визуализация нескольких графиков на одном полотне\n",
    "----\n",
    "#### Histogram's chart + multiply chart visualization on the same canvas"
   ]
  },
  {
   "cell_type": "code",
   "execution_count": 34,
   "metadata": {
    "colab": {
     "base_uri": "https://localhost:8080/"
    },
    "executionInfo": {
     "elapsed": 678,
     "status": "ok",
     "timestamp": 1631626335776,
     "user": {
      "displayName": "Rustam Paringer",
      "photoUrl": "https://lh3.googleusercontent.com/a/default-user=s64",
      "userId": "01578219706214200456"
     },
     "user_tz": -240
    },
    "id": "jZROiXLWrveV",
    "outputId": "02d9023e-942e-42fe-b6c0-4cf6a834edbc"
   },
   "outputs": [
    {
     "data": {
      "text/plain": [
       "(array([ 2.,  4., 10.,  7., 11.,  8.,  3.,  3.,  0.,  2.]),\n",
       " array([-1.82876598, -1.41389818, -0.99903038, -0.58416258, -0.16929478,\n",
       "         0.24557303,  0.66044083,  1.07530863,  1.49017643,  1.90504423,\n",
       "         2.31991203]),\n",
       " <BarContainer object of 10 artists>)"
      ]
     },
     "execution_count": 34,
     "metadata": {},
     "output_type": "execute_result"
    },
    {
     "data": {
      "image/png": "[encoded data removed]",
      "text/plain": [
       "<Figure size 432x288 with 2 Axes>"
      ]
     },
     "metadata": {
      "needs_background": "light"
     },
     "output_type": "display_data"
    }
   ],
   "source": [
    "plt.subplot(121) \n",
    "plt.scatter(x, y)\n",
    "plt.subplot(122)\n",
    "plt.hist(y)"
   ]
  },
  {
   "cell_type": "code",
   "execution_count": 35,
   "metadata": {
    "colab": {
     "base_uri": "https://localhost:8080/"
    },
    "executionInfo": {
     "elapsed": 1010,
     "status": "ok",
     "timestamp": 1631626336778,
     "user": {
      "displayName": "Rustam Paringer",
      "photoUrl": "https://lh3.googleusercontent.com/a/default-user=s64",
      "userId": "01578219706214200456"
     },
     "user_tz": -240
    },
    "id": "0BLWTUq_sBx3",
    "outputId": "1f7de93b-fb59-4000-ca5d-11daf6788497"
   },
   "outputs": [
    {
     "data": {
      "text/plain": [
       "(array([ 2.,  4., 10.,  7., 11.,  8.,  3.,  3.,  0.,  2.]),\n",
       " array([-1.82876598, -1.41389818, -0.99903038, -0.58416258, -0.16929478,\n",
       "         0.24557303,  0.66044083,  1.07530863,  1.49017643,  1.90504423,\n",
       "         2.31991203]),\n",
       " <BarContainer object of 10 artists>)"
      ]
     },
     "execution_count": 35,
     "metadata": {},
     "output_type": "execute_result"
    },
    {
     "data": {
      "image/png": "[encoded data removed]",
      "text/plain": [
       "<Figure size 1440x960 with 2 Axes>"
      ]
     },
     "metadata": {
      "needs_background": "light"
     },
     "output_type": "display_data"
    }
   ],
   "source": [
    "fig, (ax1, ax2) = plt.subplots(nrows=1, ncols=2, figsize=(12, 8), dpi=120)\n",
    "ax1.scatter(x, y)\n",
    "ax2.hist(y)\n",
    "\n",
    "# fig.savefig(\"saving_plot_example.png\")"
   ]
  },
  {
   "cell_type": "markdown",
   "metadata": {
    "id": "-rZZ5bQvslxJ"
   },
   "source": [
    "#### Примеры генерации данных\n",
    "----\n",
    "#### Data generation examples "
   ]
  },
  {
   "cell_type": "markdown",
   "metadata": {
    "id": "rN9q5Kn3ss4j"
   },
   "source": [
    "##### Гауссовы облака\n",
    "----\n",
    "##### Gaussian clouds"
   ]
  },
  {
   "cell_type": "code",
   "execution_count": 138,
   "metadata": {
    "colab": {
     "base_uri": "https://localhost:8080/",
     "height": 282
    },
    "executionInfo": {
     "elapsed": 304,
     "status": "ok",
     "timestamp": 1632081963152,
     "user": {
      "displayName": "Rustam Paringer",
      "photoUrl": "https://lh3.googleusercontent.com/a/default-user=s64",
      "userId": "01578219706214200456"
     },
     "user_tz": -240
    },
    "id": "uLc2s6jksTsM",
    "outputId": "c4dd50f1-995c-481f-b835-c96e90495dcf"
   },
   "outputs": [
    {
     "data": {
      "text/plain": [
       "<matplotlib.collections.PathCollection at 0x16bd6febd60>"
      ]
     },
     "execution_count": 138,
     "metadata": {},
     "output_type": "execute_result"
    },
    {
     "data": {
      "image/png": "[encoded data removed]",
      "text/plain": [
       "<Figure size 432x288 with 1 Axes>"
      ]
     },
     "metadata": {
      "needs_background": "light"
     },
     "output_type": "display_data"
    }
   ],
   "source": [
    "noise = np.random.randn(60, 2) # 60 точек, 2 координаты; 60 points, 2 axis\n",
    "plt.scatter(noise[:, 0], noise[:, 1])"
   ]
  },
  {
   "cell_type": "markdown",
   "metadata": {
    "id": "c1MXmxmbtGQP"
   },
   "source": [
    "#### Сдвиг облаков\n",
    "----\n",
    "#### Shift clouds"
   ]
  },
  {
   "cell_type": "code",
   "execution_count": 266,
   "metadata": {
    "id": "OG3h1alLs5UW"
   },
   "outputs": [],
   "source": [
    "cloud1 = noise + np.array([1, 1])\n",
    "cloud2 = noise + np.array([-1, -1])"
   ]
  },
  {
   "cell_type": "code",
   "execution_count": 267,
   "metadata": {
    "colab": {
     "base_uri": "https://localhost:8080/",
     "height": 282
    },
    "executionInfo": {
     "elapsed": 347,
     "status": "ok",
     "timestamp": 1632081967148,
     "user": {
      "displayName": "Rustam Paringer",
      "photoUrl": "https://lh3.googleusercontent.com/a/default-user=s64",
      "userId": "01578219706214200456"
     },
     "user_tz": -240
    },
    "id": "Iy_QIcqHtR37",
    "outputId": "0e25ee77-5390-43ed-f8ab-1057592011da"
   },
   "outputs": [
    {
     "data": {
      "text/plain": [
       "<matplotlib.collections.PathCollection at 0x16bda61a5b0>"
      ]
     },
     "execution_count": 267,
     "metadata": {},
     "output_type": "execute_result"
    },
    {
     "data": {
      "image/png": "[encoded data removed]",
      "text/plain": [
       "<Figure size 432x288 with 1 Axes>"
      ]
     },
     "metadata": {
      "needs_background": "light"
     },
     "output_type": "display_data"
    }
   ],
   "source": [
    "plt.scatter(cloud1[:, 0], cloud1[:, 1])\n",
    "plt.scatter(cloud2[:, 0], cloud2[:, 1])"
   ]
  },
  {
   "cell_type": "markdown",
   "metadata": {
    "id": "3DDFqm3VuvkW"
   },
   "source": [
    "#### Вычисление среднего и СКО для каждого облака точек\n",
    "----\n",
    "#### Calculate mean and std for each cloud"
   ]
  },
  {
   "cell_type": "code",
   "execution_count": 268,
   "metadata": {
    "colab": {
     "base_uri": "https://localhost:8080/"
    },
    "executionInfo": {
     "elapsed": 466,
     "status": "ok",
     "timestamp": 1631626337237,
     "user": {
      "displayName": "Rustam Paringer",
      "photoUrl": "https://lh3.googleusercontent.com/a/default-user=s64",
      "userId": "01578219706214200456"
     },
     "user_tz": -240
    },
    "id": "12Klt5BJu5nz",
    "outputId": "dc375c90-7101-4d84-8fbf-259b4aa362f8"
   },
   "outputs": [
    {
     "name": "stdout",
     "output_type": "stream",
     "text": [
      "0.9945207017558663\n",
      "1.031418251570062\n",
      "[1.14741197 0.84162943]\n"
     ]
    }
   ],
   "source": [
    "print(cloud1.mean())\n",
    "print(cloud1.std())\n",
    "# Заметим что среднее по 0 оси (axis=0) примерно равно сдвигу, который мы делали \n",
    "# ранее\n",
    "# Последнее среднее - это центр облака\n",
    "print(cloud1.mean(axis=0)) "
   ]
  },
  {
   "cell_type": "code",
   "execution_count": 269,
   "metadata": {
    "colab": {
     "base_uri": "https://localhost:8080/"
    },
    "executionInfo": {
     "elapsed": 20,
     "status": "ok",
     "timestamp": 1631626337238,
     "user": {
      "displayName": "Rustam Paringer",
      "photoUrl": "https://lh3.googleusercontent.com/a/default-user=s64",
      "userId": "01578219706214200456"
     },
     "user_tz": -240
    },
    "id": "qBh4X4QEu5JW",
    "outputId": "38dc3d63-8551-4cb6-96ed-52d712751db4"
   },
   "outputs": [
    {
     "name": "stdout",
     "output_type": "stream",
     "text": [
      "-1.0054792982441336\n",
      "1.0314182515700623\n",
      "[-0.85258803 -1.15837057]\n"
     ]
    }
   ],
   "source": [
    "print(cloud2.mean())\n",
    "print(cloud2.std())\n",
    "# Note that mean along the 0 axis is roughly equal to the shift we've done \n",
    "# before\n",
    "# The last mean is the center of the cloud\n",
    "print(cloud2.mean(axis=0))"
   ]
  },
  {
   "cell_type": "markdown",
   "metadata": {
    "id": "-11arB6gtXdC"
   },
   "source": [
    "#### Объединение матриц в одну и создание аннотаций\n",
    "----\n",
    "#### Merge both matrices into one and create annotations "
   ]
  },
  {
   "cell_type": "code",
   "execution_count": 270,
   "metadata": {
    "colab": {
     "base_uri": "https://localhost:8080/"
    },
    "executionInfo": {
     "elapsed": 263,
     "status": "ok",
     "timestamp": 1632081998424,
     "user": {
      "displayName": "Rustam Paringer",
      "photoUrl": "https://lh3.googleusercontent.com/a/default-user=s64",
      "userId": "01578219706214200456"
     },
     "user_tz": -240
    },
    "id": "KQEFFDtQtUqM",
    "outputId": "ecd5c7ba-e690-4348-dbd1-0448d0312564"
   },
   "outputs": [
    {
     "data": {
      "text/plain": [
       "(120, 2)"
      ]
     },
     "execution_count": 270,
     "metadata": {},
     "output_type": "execute_result"
    }
   ],
   "source": [
    "X = np.vstack([cloud1, cloud2])\n",
    "X.shape"
   ]
  },
  {
   "cell_type": "markdown",
   "metadata": {
    "id": "3FXYDtH06fOo"
   },
   "source": [
    "Структуры данных в Python: https://docs.python.org/3/tutorial/datastructures.html"
   ]
  },
  {
   "cell_type": "code",
   "execution_count": 271,
   "metadata": {
    "colab": {
     "base_uri": "https://localhost:8080/"
    },
    "executionInfo": {
     "elapsed": 4,
     "status": "ok",
     "timestamp": 1632081999778,
     "user": {
      "displayName": "Rustam Paringer",
      "photoUrl": "https://lh3.googleusercontent.com/a/default-user=s64",
      "userId": "01578219706214200456"
     },
     "user_tz": -240
    },
    "id": "fckTmY11tyv8",
    "outputId": "2940317c-942c-4c63-c34c-5cd14dc1801b"
   },
   "outputs": [
    {
     "name": "stdout",
     "output_type": "stream",
     "text": [
      "[0, 0, 0, 0, 0, 0, 0, 0, 0, 0, 0, 0, 0, 0, 0, 0, 0, 0, 0, 0, 0, 0, 0, 0, 0, 0, 0, 0, 0, 0, 0, 0, 0, 0, 0, 0, 0, 0, 0, 0, 0, 0, 0, 0, 0, 0, 0, 0, 0, 0, 0, 0, 0, 0, 0, 0, 0, 0, 0, 0]\n",
      "[1, 1, 1, 1, 1, 1, 1, 1, 1, 1, 1, 1, 1, 1, 1, 1, 1, 1, 1, 1, 1, 1, 1, 1, 1, 1, 1, 1, 1, 1, 1, 1, 1, 1, 1, 1, 1, 1, 1, 1, 1, 1, 1, 1, 1, 1, 1, 1, 1, 1, 1, 1, 1, 1, 1, 1, 1, 1, 1, 1]\n",
      "[0, 0, 0, 0, 0, 0, 0, 0, 0, 0, 0, 0, 0, 0, 0, 0, 0, 0, 0, 0, 0, 0, 0, 0, 0, 0, 0, 0, 0, 0, 0, 0, 0, 0, 0, 0, 0, 0, 0, 0, 0, 0, 0, 0, 0, 0, 0, 0, 0, 0, 0, 0, 0, 0, 0, 0, 0, 0, 0, 0, 1, 1, 1, 1, 1, 1, 1, 1, 1, 1, 1, 1, 1, 1, 1, 1, 1, 1, 1, 1, 1, 1, 1, 1, 1, 1, 1, 1, 1, 1, 1, 1, 1, 1, 1, 1, 1, 1, 1, 1, 1, 1, 1, 1, 1, 1, 1, 1, 1, 1, 1, 1, 1, 1, 1, 1, 1, 1, 1, 1]\n"
     ]
    }
   ],
   "source": [
    "annotation1 = [0] * cloud1.shape[0] # Создание списка (python.list) с 60 нулями (метки первого класса); Create an array (python.list) with 60 zeros (first class labels)\n",
    "print(annotation1)\n",
    "annotation2 = [1] * cloud2.shape[0] # Создание списка с 60 единицами (метки второго класса); Create an array with 60 ones (second class labels)\n",
    "print(annotation2)\n",
    "y = annotation1 + annotation2 # объединения списков; lists concatenation \n",
    "print(y)"
   ]
  },
  {
   "cell_type": "code",
   "execution_count": 272,
   "metadata": {
    "colab": {
     "base_uri": "https://localhost:8080/",
     "height": 282
    },
    "executionInfo": {
     "elapsed": 387,
     "status": "ok",
     "timestamp": 1632082000458,
     "user": {
      "displayName": "Rustam Paringer",
      "photoUrl": "https://lh3.googleusercontent.com/a/default-user=s64",
      "userId": "01578219706214200456"
     },
     "user_tz": -240
    },
    "id": "hxzj4LBIuVH1",
    "outputId": "71083e3b-0a96-4775-a82b-c3253e5c0ce2"
   },
   "outputs": [
    {
     "data": {
      "text/plain": [
       "<matplotlib.collections.PathCollection at 0x16bda521550>"
      ]
     },
     "execution_count": 272,
     "metadata": {},
     "output_type": "execute_result"
    },
    {
     "data": {
      "image/png": "[encoded data removed]",
      "text/plain": [
       "<Figure size 432x288 with 1 Axes>"
      ]
     },
     "metadata": {
      "needs_background": "light"
     },
     "output_type": "display_data"
    }
   ],
   "source": [
    "plt.scatter(X[:,0], X[:,1], c=y)"
   ]
  },
  {
   "cell_type": "markdown",
   "metadata": {
    "id": "D93-1oGq3a6Z"
   },
   "source": [
    "### scikit-learn \n",
    "\n",
    "* Установка с помощью командной строки: `pip install scikit-learn`\n",
    "* Установка в jupyter notebook: `!pip install scikit-learn`\n",
    "(Префикс `!` указывает, что текущую клетку нужно выполнить в командной строке)\n",
    "\n",
    "В google colaboratory scikit-learn предустановлен\n",
    "\n",
    "---\n",
    "* Install via command line: `pip install scikit-learn`\n",
    "* Install via jupyter notebook: `!pip install scikit-learn`\n",
    "(Prefix `!` indicates that the command should be executed inside terminal))\n",
    "\n",
    "Google colaboratory has preinstalled scikit-learn.\n",
    "\n",
    "Official user guide:\n",
    "https://scikit-learn.org/stable/user_guide.html\n",
    "\n"
   ]
  },
  {
   "cell_type": "code",
   "execution_count": 273,
   "metadata": {
    "colab": {
     "base_uri": "https://localhost:8080/",
     "height": 35
    },
    "executionInfo": {
     "elapsed": 768,
     "status": "ok",
     "timestamp": 1632081984858,
     "user": {
      "displayName": "Rustam Paringer",
      "photoUrl": "https://lh3.googleusercontent.com/a/default-user=s64",
      "userId": "01578219706214200456"
     },
     "user_tz": -240
    },
    "id": "93y7otKd3GN-",
    "outputId": "58025de3-ecad-4a14-ad54-f58fb31cfae5"
   },
   "outputs": [
    {
     "data": {
      "text/plain": [
       "'0.23.2'"
      ]
     },
     "execution_count": 273,
     "metadata": {},
     "output_type": "execute_result"
    }
   ],
   "source": [
    "import sklearn\n",
    "sklearn.__version__"
   ]
  },
  {
   "cell_type": "code",
   "execution_count": 274,
   "metadata": {
    "id": "cQH6tNct30VZ"
   },
   "outputs": [],
   "source": [
    "from sklearn.linear_model import LogisticRegression\n",
    "from sklearn.metrics import confusion_matrix\n",
    "from sklearn.metrics import accuracy_score, precision_score, recall_score\n",
    "from sklearn.utils import shuffle"
   ]
  },
  {
   "cell_type": "markdown",
   "metadata": {
    "id": "gUnCjQ0D39ec"
   },
   "source": [
    "Для демонстрации будем использовать данные сгенерированные ранее\n",
    "\n",
    "----\n",
    "For the demonstration purposes we will use data generated before"
   ]
  },
  {
   "cell_type": "code",
   "execution_count": 275,
   "metadata": {
    "colab": {
     "base_uri": "https://localhost:8080/",
     "height": 282
    },
    "executionInfo": {
     "elapsed": 327,
     "status": "ok",
     "timestamp": 1632082006455,
     "user": {
      "displayName": "Rustam Paringer",
      "photoUrl": "https://lh3.googleusercontent.com/a/default-user=s64",
      "userId": "01578219706214200456"
     },
     "user_tz": -240
    },
    "id": "bcs63DLW316T",
    "outputId": "c66876f8-2e77-4fc2-f855-91f1cf7c739a"
   },
   "outputs": [
    {
     "data": {
      "text/plain": [
       "<matplotlib.collections.PathCollection at 0x16bda339580>"
      ]
     },
     "execution_count": 275,
     "metadata": {},
     "output_type": "execute_result"
    },
    {
     "data": {
      "image/png": "[encoded data removed]",
      "text/plain": [
       "<Figure size 432x288 with 1 Axes>"
      ]
     },
     "metadata": {
      "needs_background": "light"
     },
     "output_type": "display_data"
    }
   ],
   "source": [
    "plt.scatter(X[:,0], X[:,1], c=y)"
   ]
  },
  {
   "cell_type": "markdown",
   "metadata": {
    "id": "JjVw5FBR4Q9R"
   },
   "source": [
    "Перемешаем данные\n",
    "\n",
    "----\n",
    "Shuffle the data"
   ]
  },
  {
   "cell_type": "code",
   "execution_count": 276,
   "metadata": {
    "colab": {
     "base_uri": "https://localhost:8080/"
    },
    "executionInfo": {
     "elapsed": 264,
     "status": "ok",
     "timestamp": 1632082012890,
     "user": {
      "displayName": "Rustam Paringer",
      "photoUrl": "https://lh3.googleusercontent.com/a/default-user=s64",
      "userId": "01578219706214200456"
     },
     "user_tz": -240
    },
    "id": "s7S8SoFH3825",
    "outputId": "028567ed-a605-4942-8b4d-2d906151e034"
   },
   "outputs": [
    {
     "name": "stdout",
     "output_type": "stream",
     "text": [
      "[1, 1, 1, 0, 1, 1, 0, 0, 1, 0, 1, 1, 1, 1, 1, 1, 1, 0, 1, 1, 0, 1, 0, 1, 1, 0, 1, 1, 1, 1, 1, 0, 0, 1, 1, 0, 1, 1, 0, 0, 1, 1, 0, 0, 1, 0, 0, 1, 0, 1, 0, 0, 0, 0, 1, 0, 1, 0, 0, 0, 0, 0, 0, 0, 1, 0, 1, 0, 0, 1, 0, 1, 0, 0, 0, 1, 1, 0, 0, 1, 0, 0, 0, 0, 1, 0, 1, 0, 1, 0, 1, 1, 0, 1, 0, 0, 1, 1, 0, 0, 0, 0, 1, 0, 1, 0, 1, 1, 0, 0, 1, 1, 1, 0, 0, 1, 1, 0, 1, 1]\n"
     ]
    }
   ],
   "source": [
    "data, labels = shuffle(X, y)\n",
    "print(labels)"
   ]
  },
  {
   "cell_type": "markdown",
   "metadata": {
    "id": "mlYBjvGn4cxP"
   },
   "source": [
    "Разделим данные на обучающие и тестовые выборки\n",
    "\n",
    "----\n",
    "Split the data into train and test samples"
   ]
  },
  {
   "cell_type": "code",
   "execution_count": 277,
   "metadata": {
    "id": "RSoRryyh4VlH"
   },
   "outputs": [],
   "source": [
    "test_size = int(len(data) * 0.4)\n",
    "Xtrain = data[test_size:]\n",
    "Ytrain = labels[test_size:]\n",
    "Xtest = data[:test_size]\n",
    "Ytest = labels[:test_size]"
   ]
  },
  {
   "cell_type": "markdown",
   "metadata": {
    "id": "ut6e8ptz4sRX"
   },
   "source": [
    "Создадим и обучим классификатор\n",
    "\n",
    "----\n",
    "Create classificator and train it"
   ]
  },
  {
   "cell_type": "code",
   "execution_count": 278,
   "metadata": {
    "colab": {
     "base_uri": "https://localhost:8080/"
    },
    "executionInfo": {
     "elapsed": 303,
     "status": "ok",
     "timestamp": 1632082017637,
     "user": {
      "displayName": "Rustam Paringer",
      "photoUrl": "https://lh3.googleusercontent.com/a/default-user=s64",
      "userId": "01578219706214200456"
     },
     "user_tz": -240
    },
    "id": "ljv6IDqb4oy5",
    "outputId": "c434577d-8fe1-4cdc-8248-38622213b48f"
   },
   "outputs": [
    {
     "data": {
      "text/plain": [
       "LogisticRegression()"
      ]
     },
     "execution_count": 278,
     "metadata": {},
     "output_type": "execute_result"
    }
   ],
   "source": [
    "clf = LogisticRegression()\n",
    "clf.fit(Xtrain, Ytrain)"
   ]
  },
  {
   "cell_type": "markdown",
   "metadata": {
    "id": "rb-_9TZV5HK0"
   },
   "source": [
    "Оценим классификатор на тестовом наборе данных\n",
    "\n",
    "----\n",
    "Assess the classificator on the test data"
   ]
  },
  {
   "cell_type": "code",
   "execution_count": 279,
   "metadata": {
    "colab": {
     "base_uri": "https://localhost:8080/"
    },
    "executionInfo": {
     "elapsed": 259,
     "status": "ok",
     "timestamp": 1632082022171,
     "user": {
      "displayName": "Rustam Paringer",
      "photoUrl": "https://lh3.googleusercontent.com/a/default-user=s64",
      "userId": "01578219706214200456"
     },
     "user_tz": -240
    },
    "id": "dQRm35vy5EiK",
    "outputId": "8f6c7f2a-8fe6-4ecb-d5c3-0d655a39024b"
   },
   "outputs": [],
   "source": [
    "predictions = clf.predict(Xtest)"
   ]
  },
  {
   "cell_type": "code",
   "execution_count": 280,
   "metadata": {},
   "outputs": [
    {
     "data": {
      "text/plain": [
       "array([1, 1, 0, 0, 1, 1, 0, 0, 1, 0, 1, 1, 1, 1, 1, 1, 1, 0, 0, 1, 0, 1,\n",
       "       0, 1, 1, 0, 1, 1, 1, 1, 1, 0, 0, 1, 1, 0, 1, 1, 0, 0, 1, 1, 0, 0,\n",
       "       0, 0, 0, 1])"
      ]
     },
     "execution_count": 280,
     "metadata": {},
     "output_type": "execute_result"
    }
   ],
   "source": [
    "predictions"
   ]
  },
  {
   "cell_type": "code",
   "execution_count": 281,
   "metadata": {},
   "outputs": [
    {
     "data": {
      "text/plain": [
       "0.9375"
      ]
     },
     "execution_count": 281,
     "metadata": {},
     "output_type": "execute_result"
    }
   ],
   "source": [
    "accuracy_score(Ytest, predictions)"
   ]
  },
  {
   "cell_type": "code",
   "execution_count": 282,
   "metadata": {},
   "outputs": [
    {
     "data": {
      "text/plain": [
       "1.0"
      ]
     },
     "execution_count": 282,
     "metadata": {},
     "output_type": "execute_result"
    }
   ],
   "source": [
    "precision_score(Ytest, predictions)"
   ]
  },
  {
   "cell_type": "code",
   "execution_count": 283,
   "metadata": {},
   "outputs": [
    {
     "data": {
      "text/plain": [
       "0.9032258064516129"
      ]
     },
     "execution_count": 283,
     "metadata": {},
     "output_type": "execute_result"
    }
   ],
   "source": [
    "recall_score(Ytest, predictions)"
   ]
  },
  {
   "cell_type": "code",
   "execution_count": 217,
   "metadata": {},
   "outputs": [],
   "source": [
    "_y =     [0, 0, 0, 1, 1, 1]\n",
    "_preds = [0, 0, 1, 0, 0, 1]"
   ]
  },
  {
   "cell_type": "code",
   "execution_count": 218,
   "metadata": {},
   "outputs": [
    {
     "data": {
      "text/plain": [
       "0.5"
      ]
     },
     "execution_count": 218,
     "metadata": {},
     "output_type": "execute_result"
    }
   ],
   "source": [
    "acc = (2 + 1) / 6\n",
    "acc"
   ]
  },
  {
   "cell_type": "code",
   "execution_count": 219,
   "metadata": {},
   "outputs": [
    {
     "data": {
      "text/plain": [
       "0.5"
      ]
     },
     "execution_count": 219,
     "metadata": {},
     "output_type": "execute_result"
    }
   ],
   "source": [
    "prec = (1) / 2\n",
    "prec"
   ]
  },
  {
   "cell_type": "code",
   "execution_count": 220,
   "metadata": {},
   "outputs": [
    {
     "data": {
      "text/plain": [
       "0.3333333333333333"
      ]
     },
     "execution_count": 220,
     "metadata": {},
     "output_type": "execute_result"
    }
   ],
   "source": [
    "recall = 1 / 3\n",
    "recall"
   ]
  },
  {
   "cell_type": "code",
   "execution_count": null,
   "metadata": {},
   "outputs": [],
   "source": []
  },
  {
   "cell_type": "code",
   "execution_count": 221,
   "metadata": {},
   "outputs": [
    {
     "data": {
      "text/plain": [
       "1.0"
      ]
     },
     "execution_count": 221,
     "metadata": {},
     "output_type": "execute_result"
    }
   ],
   "source": [
    "recall_score(Ytest, predictions)"
   ]
  },
  {
   "cell_type": "code",
   "execution_count": 222,
   "metadata": {
    "id": "U9t3xKh7q0yJ"
   },
   "outputs": [],
   "source": [
    "# Матрица ошибок\n",
    "C = confusion_matrix(Ytest, predictions)"
   ]
  },
  {
   "cell_type": "code",
   "execution_count": 223,
   "metadata": {
    "colab": {
     "base_uri": "https://localhost:8080/",
     "height": 282
    },
    "executionInfo": {
     "elapsed": 306,
     "status": "ok",
     "timestamp": 1632082209249,
     "user": {
      "displayName": "Rustam Paringer",
      "photoUrl": "https://lh3.googleusercontent.com/a/default-user=s64",
      "userId": "01578219706214200456"
     },
     "user_tz": -240
    },
    "id": "UCKkhKEwrHiq",
    "outputId": "c423f49e-486e-475d-f22b-92d5f301af74"
   },
   "outputs": [
    {
     "data": {
      "text/plain": [
       "<AxesSubplot:>"
      ]
     },
     "execution_count": 223,
     "metadata": {},
     "output_type": "execute_result"
    },
    {
     "data": {
      "image/png": "[encoded data removed]",
      "text/plain": [
       "<Figure size 432x288 with 2 Axes>"
      ]
     },
     "metadata": {
      "needs_background": "light"
     },
     "output_type": "display_data"
    }
   ],
   "source": [
    "# Visualize confusion matrix\n",
    "# ---\n",
    "# Визуализация матрицы ошибок\n",
    "import seaborn as sns\n",
    "sns.heatmap(C / C.sum(axis=1, keepdims=True), annot=True)\n"
   ]
  },
  {
   "cell_type": "code",
   "execution_count": 226,
   "metadata": {
    "id": "K6RdBdjhoubr"
   },
   "outputs": [],
   "source": [
    "def sigmoid(x):\n",
    "    return 1 / (1 + np.exp(-x))\n",
    "\n",
    "\n",
    "class LogisticRegression:\n",
    "    def __init__(self, dim=2):\n",
    "        # dim - размерность входных данных.\n",
    "        self.w = np.random.randn(dim, 1)\n",
    "        self.b = np.zeros((1,))\n",
    "        \n",
    "    def predict(self, x, probs=False):\n",
    "        # x[0] * w[0] + x[1] * w[1] + b <-> x*a + y*b + c\n",
    "        x = x.dot(self.w) + self.b  # logits\n",
    "        p = sigmoid(x)  # probabilities\n",
    "        if probs:\n",
    "            return p\n",
    "        return np.array(p > 0.5).astype('int32')\n",
    "        \n",
    "    def fit(self, x, y, iters=100, lr=0.01):\n",
    "        # x - np.array размерности [N, dim]\n",
    "        #     Массив входных признаков.\n",
    "        # y - np.array размернсоти [N]\n",
    "        #     Массив меток (правильных ответов).\n",
    "        # Алгоритм градиентного спуска.\n",
    "        # Минимизируется бинарная кросс-энтропия.\n",
    "        y = y.reshape(-1, 1)\n",
    "        for i in range(iters):\n",
    "            preds = self.predict(x, probs=True)\n",
    "            self.w -= lr * np.mean(x.T.dot(preds - y), axis=1, keepdims=True)\n",
    "            self.b -= lr * np.mean(preds - y, axis=0)"
   ]
  },
  {
   "cell_type": "code",
   "execution_count": 227,
   "metadata": {},
   "outputs": [],
   "source": [
    "model = LogisticRegression()"
   ]
  },
  {
   "cell_type": "code",
   "execution_count": 228,
   "metadata": {},
   "outputs": [],
   "source": [
    "def get_y(ox, model):\n",
    "    a, b, c = model.w[0, 0], model.w[1, 0], model.b[0]\n",
    "    return -a / b * ox - c / b\n",
    "\n",
    "def get_logit(xy, model):\n",
    "    a, b, c = model.w[0, 0], model.w[1, 0], model.b[0]\n",
    "    return a * xy[0] + b * xy[1] + c"
   ]
  },
  {
   "cell_type": "code",
   "execution_count": 229,
   "metadata": {},
   "outputs": [],
   "source": [
    "x = X\n",
    "y = np.array(y, dtype='float32')"
   ]
  },
  {
   "cell_type": "code",
   "execution_count": 265,
   "metadata": {},
   "outputs": [
    {
     "data": {
      "image/png": "[encoded data removed]",
      "text/plain": [
       "<Figure size 432x288 with 1 Axes>"
      ]
     },
     "metadata": {
      "needs_background": "light"
     },
     "output_type": "display_data"
    }
   ],
   "source": [
    "ox = np.linspace(-5, 5, 100)\n",
    "\n",
    "# --- Draw logit field\n",
    "_y, _x = np.meshgrid(ox, ox)\n",
    "logit_field = get_logit((_x, _y), model)\n",
    "plt.pcolormesh(_x, _y, logit_field, cmap='coolwarm', shading='auto')\n",
    "\n",
    "# --- Draw points\n",
    "plt.scatter(X[:,0], X[:,1], c=y) \n",
    "\n",
    "# --- Draw classification line\n",
    "oy = get_y(ox, model)\n",
    "plt.plot(ox, oy)\n",
    "\n",
    "plt.ylim(-5, 5)\n",
    "plt.xlim(-5, 5)\n",
    "\n",
    "model.fit(X, y, iters=1, lr=0.0005)"
   ]
  },
  {
   "cell_type": "code",
   "execution_count": null,
   "metadata": {},
   "outputs": [],
   "source": []
  }
 ],
 "metadata": {
  "colab": {
   "authorship_tag": "ABX9TyOOstnXeUt36ft3S+mBNQrk",
   "collapsed_sections": [
    "6s11_Bu6ZT9K",
    "cGA8uZ8EaC_d",
    "JmfyKJpIa6tc",
    "SDWSKe5TrFGf",
    "izsUZy-OrMx4",
    "mnkFVY_er3Fg"
   ],
   "name": "Lab_1.ipynb",
   "provenance": [],
   "toc_visible": true
  },
  "kernelspec": {
   "display_name": "Python 3",
   "language": "python",
   "name": "python3"
  },
  "language_info": {
   "codemirror_mode": {
    "name": "ipython",
    "version": 3
   },
   "file_extension": ".py",
   "mimetype": "text/x-python",
   "name": "python",
   "nbconvert_exporter": "python",
   "pygments_lexer": "ipython3",
   "version": "3.8.5"
  }
 },
 "nbformat": 4,
 "nbformat_minor": 1
}
